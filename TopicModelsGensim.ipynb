{
 "cells": [
  {
   "cell_type": "code",
   "execution_count": 2,
   "metadata": {},
   "outputs": [],
   "source": [
    "import re\n",
    "from collections import defaultdict\n",
    "from pprint import pprint\n",
    "import pandas as pd\n",
    "import sklearn\n",
    "import gensim\n",
    "import pyLDAvis"
   ]
  },
  {
   "cell_type": "code",
   "execution_count": 3,
   "metadata": {},
   "outputs": [],
   "source": [
    "# Tutorial: https://radimrehurek.com/gensim/auto_examples/core/run_corpora_and_vector_spaces.html#sphx-glr-auto-examples-core-run-corpora-and-vector-spaces-py\n",
    "\n",
    "from sklearn.feature_extraction.text import ENGLISH_STOP_WORDS\n",
    "from gensim import corpora\n",
    "from gensim import models\n",
    "from gensim.parsing.preprocessing import preprocess_string, strip_punctuation, remove_stopwords\n",
    "\n",
    "from pyLDAvis import gensim"
   ]
  },
  {
   "cell_type": "code",
   "execution_count": 4,
   "metadata": {},
   "outputs": [
    {
     "data": {
      "text/html": [
       "<div>\n",
       "<style scoped>\n",
       "    .dataframe tbody tr th:only-of-type {\n",
       "        vertical-align: middle;\n",
       "    }\n",
       "\n",
       "    .dataframe tbody tr th {\n",
       "        vertical-align: top;\n",
       "    }\n",
       "\n",
       "    .dataframe thead th {\n",
       "        text-align: right;\n",
       "    }\n",
       "</style>\n",
       "<table border=\"1\" class=\"dataframe\">\n",
       "  <thead>\n",
       "    <tr style=\"text-align: right;\">\n",
       "      <th></th>\n",
       "      <th>text</th>\n",
       "      <th>retweet_count</th>\n",
       "      <th>favorite_count</th>\n",
       "      <th>username</th>\n",
       "      <th>userdesc</th>\n",
       "      <th>verified</th>\n",
       "      <th>followers</th>\n",
       "      <th>created_at</th>\n",
       "      <th>has_urls</th>\n",
       "      <th>has_mentions</th>\n",
       "      <th>high_response</th>\n",
       "    </tr>\n",
       "  </thead>\n",
       "  <tbody>\n",
       "    <tr>\n",
       "      <th>0</th>\n",
       "      <td>They are starting to get more and more despera...</td>\n",
       "      <td>24298</td>\n",
       "      <td>168648</td>\n",
       "      <td>GretaThunberg</td>\n",
       "      <td>17 year old climate and environmental activist...</td>\n",
       "      <td>True</td>\n",
       "      <td>4079169</td>\n",
       "      <td>2020-02-29 15:26:10</td>\n",
       "      <td>True</td>\n",
       "      <td>False</td>\n",
       "      <td>True</td>\n",
       "    </tr>\n",
       "    <tr>\n",
       "      <th>1</th>\n",
       "      <td>I do not believe we will defeat Donald Trump w...</td>\n",
       "      <td>18592</td>\n",
       "      <td>77895</td>\n",
       "      <td>BernieSanders</td>\n",
       "      <td>U.S. Senator from Vermont and candidate for Pr...</td>\n",
       "      <td>True</td>\n",
       "      <td>10951634</td>\n",
       "      <td>2020-03-02 20:30:56</td>\n",
       "      <td>False</td>\n",
       "      <td>False</td>\n",
       "      <td>True</td>\n",
       "    </tr>\n",
       "    <tr>\n",
       "      <th>2</th>\n",
       "      <td>Indigenous rights = Climate justice\\n#Wetsuwet...</td>\n",
       "      <td>4609</td>\n",
       "      <td>21488</td>\n",
       "      <td>GretaThunberg</td>\n",
       "      <td>17 year old climate and environmental activist...</td>\n",
       "      <td>True</td>\n",
       "      <td>4086646</td>\n",
       "      <td>2020-02-08 13:36:48</td>\n",
       "      <td>True</td>\n",
       "      <td>False</td>\n",
       "      <td>True</td>\n",
       "    </tr>\n",
       "    <tr>\n",
       "      <th>3</th>\n",
       "      <td>Stop running away from your problem. Run into ...</td>\n",
       "      <td>2739</td>\n",
       "      <td>16317</td>\n",
       "      <td>pulte</td>\n",
       "      <td>The Philanthropist. Inventor of Twitter Philan...</td>\n",
       "      <td>True</td>\n",
       "      <td>2059165</td>\n",
       "      <td>2020-02-29 21:19:22</td>\n",
       "      <td>True</td>\n",
       "      <td>False</td>\n",
       "      <td>True</td>\n",
       "    </tr>\n",
       "    <tr>\n",
       "      <th>4</th>\n",
       "      <td>Support the Wet’suwet’en Nation and the pipeli...</td>\n",
       "      <td>2972</td>\n",
       "      <td>10035</td>\n",
       "      <td>GretaThunberg</td>\n",
       "      <td>17 year old climate and environmental activist...</td>\n",
       "      <td>True</td>\n",
       "      <td>4091979</td>\n",
       "      <td>2020-02-18 10:13:02</td>\n",
       "      <td>True</td>\n",
       "      <td>False</td>\n",
       "      <td>True</td>\n",
       "    </tr>\n",
       "  </tbody>\n",
       "</table>\n",
       "</div>"
      ],
      "text/plain": [
       "                                                text  retweet_count  \\\n",
       "0  They are starting to get more and more despera...          24298   \n",
       "1  I do not believe we will defeat Donald Trump w...          18592   \n",
       "2  Indigenous rights = Climate justice\\n#Wetsuwet...           4609   \n",
       "3  Stop running away from your problem. Run into ...           2739   \n",
       "4  Support the Wet’suwet’en Nation and the pipeli...           2972   \n",
       "\n",
       "   favorite_count       username  \\\n",
       "0          168648  GretaThunberg   \n",
       "1           77895  BernieSanders   \n",
       "2           21488  GretaThunberg   \n",
       "3           16317          pulte   \n",
       "4           10035  GretaThunberg   \n",
       "\n",
       "                                            userdesc  verified  followers  \\\n",
       "0  17 year old climate and environmental activist...      True    4079169   \n",
       "1  U.S. Senator from Vermont and candidate for Pr...      True   10951634   \n",
       "2  17 year old climate and environmental activist...      True    4086646   \n",
       "3  The Philanthropist. Inventor of Twitter Philan...      True    2059165   \n",
       "4  17 year old climate and environmental activist...      True    4091979   \n",
       "\n",
       "            created_at  has_urls  has_mentions  high_response  \n",
       "0  2020-02-29 15:26:10      True         False           True  \n",
       "1  2020-03-02 20:30:56     False         False           True  \n",
       "2  2020-02-08 13:36:48      True         False           True  \n",
       "3  2020-02-29 21:19:22      True         False           True  \n",
       "4  2020-02-18 10:13:02      True         False           True  "
      ]
     },
     "execution_count": 4,
     "metadata": {},
     "output_type": "execute_result"
    }
   ],
   "source": [
    "df = pd.read_csv('aggregation.csv')\n",
    "df.head()"
   ]
  },
  {
   "cell_type": "code",
   "execution_count": 6,
   "metadata": {},
   "outputs": [],
   "source": [
    "docs = list(df['text'])"
   ]
  },
  {
   "cell_type": "code",
   "execution_count": 7,
   "metadata": {},
   "outputs": [
    {
     "name": "stderr",
     "output_type": "stream",
     "text": [
      "<>:2: DeprecationWarning: invalid escape sequence \\s\n",
      "<>:2: DeprecationWarning: invalid escape sequence \\s\n",
      "<>:2: DeprecationWarning: invalid escape sequence \\s\n",
      "<ipython-input-7-4d8c883e427e>:2: DeprecationWarning: invalid escape sequence \\s\n",
      "  url_pattern = re.compile(\"http[^\\s]+\", re.I)\n"
     ]
    }
   ],
   "source": [
    "# Remove URL junk\n",
    "url_pattern = re.compile(\"http[^\\s]+\", re.I)"
   ]
  },
  {
   "cell_type": "code",
   "execution_count": 8,
   "metadata": {},
   "outputs": [],
   "source": [
    "# More restrictive punctuation match\n",
    "non_ascii_pattern = re.compile(\"[^\\u0000-\\u007A]\")"
   ]
  },
  {
   "cell_type": "code",
   "execution_count": 9,
   "metadata": {},
   "outputs": [],
   "source": [
    "preprocess_filters = [lambda x: x.lower(), strip_punctuation, remove_stopwords]"
   ]
  },
  {
   "cell_type": "code",
   "execution_count": 10,
   "metadata": {},
   "outputs": [],
   "source": [
    "for i in range(len(docs)):\n",
    "    docs[i] = url_pattern.sub('', docs[i])\n",
    "    docs[i] = non_ascii_pattern.sub('', docs[i])\n",
    "    docs[i] = preprocess_string(docs[i], preprocess_filters)"
   ]
  },
  {
   "cell_type": "code",
   "execution_count": 11,
   "metadata": {},
   "outputs": [
    {
     "data": {
      "text/plain": [
       "[['starting', 'desperate', 'shows', 'winning'],\n",
       " ['believe',\n",
       "  'defeat',\n",
       "  'donald',\n",
       "  'trump',\n",
       "  'candidate',\n",
       "  'like',\n",
       "  'joe',\n",
       "  'biden',\n",
       "  'supported',\n",
       "  'iraq',\n",
       "  'war'],\n",
       " ['indigenous',\n",
       "  'rights',\n",
       "  'climate',\n",
       "  'justice',\n",
       "  'wetsuwetenstrong',\n",
       "  'keepitintheground'],\n",
       " ['stop',\n",
       "  'running',\n",
       "  'away',\n",
       "  'problem',\n",
       "  'run',\n",
       "  'problem',\n",
       "  'suck',\n",
       "  'suck',\n",
       "  'pop'],\n",
       " ['support',\n",
       "  'wetsuweten',\n",
       "  'nation',\n",
       "  'pipeline',\n",
       "  'protests',\n",
       "  'happening',\n",
       "  'canada',\n",
       "  'wetsuwenstrong']]"
      ]
     },
     "execution_count": 11,
     "metadata": {},
     "output_type": "execute_result"
    }
   ],
   "source": [
    "docs[:5]"
   ]
  },
  {
   "cell_type": "code",
   "execution_count": 12,
   "metadata": {},
   "outputs": [],
   "source": [
    "add_stop_words = ['wetsuweten', 'wet', 'suwet', 'en',\n",
    "                  'wetsuwetenstrong', 'wetsuwetensolidarity', 'shutdowncanada',\n",
    "                  'bc', 'british', 'columbia', 'canada', 'indigenous', 'pipeline',\n",
    "                  'hereditary', 'chiefs',\n",
    "                 's', 'd', 'll', 've']\n",
    "\n",
    "custom_stop_words = set(ENGLISH_STOP_WORDS).union(set(add_stop_words))"
   ]
  },
  {
   "cell_type": "code",
   "execution_count": 13,
   "metadata": {},
   "outputs": [
    {
     "name": "stdout",
     "output_type": "stream",
     "text": [
      "[['starting', 'shows'],\n",
      " ['believe', 'trump', 'like', 'joe', 'supported', 'war'],\n",
      " ['rights', 'climate', 'justice'],\n",
      " ['stop', 'running', 'away', 'problem', 'run', 'problem', 'suck', 'suck'],\n",
      " ['support', 'nation', 'protests', 'happening']]\n"
     ]
    }
   ],
   "source": [
    "texts = [[word for word in document \n",
    "              if word not in custom_stop_words]\n",
    "          for document in docs]\n",
    "\n",
    "# remove words that appear infrequently\n",
    "frequency = defaultdict(int)\n",
    "for doc in texts:\n",
    "    for t in doc:\n",
    "        frequency[t] += 1\n",
    "\n",
    "texts = [\n",
    "    [t for t in doc if frequency[t] > 3]\n",
    "    for doc in texts\n",
    "]\n",
    "\n",
    "pprint(texts[:5])"
   ]
  },
  {
   "cell_type": "code",
   "execution_count": 14,
   "metadata": {},
   "outputs": [],
   "source": [
    "dictionary = corpora.Dictionary(texts)\n",
    "dictionary.save('tweets.dict')"
   ]
  },
  {
   "cell_type": "code",
   "execution_count": 15,
   "metadata": {},
   "outputs": [],
   "source": [
    "corpus = [dictionary.doc2bow(text) for text in texts] # bag-of-words\n",
    "corpora.MmCorpus.serialize('corpus.mm', corpus) # Matrix Market format"
   ]
  },
  {
   "cell_type": "code",
   "execution_count": 16,
   "metadata": {},
   "outputs": [],
   "source": [
    "tfidf = models.TfidfModel(corpus)"
   ]
  },
  {
   "cell_type": "code",
   "execution_count": 17,
   "metadata": {},
   "outputs": [],
   "source": [
    "corpus_tfidf = tfidf[corpus]"
   ]
  },
  {
   "cell_type": "code",
   "execution_count": 18,
   "metadata": {},
   "outputs": [
    {
     "name": "stdout",
     "output_type": "stream",
     "text": [
      "[(0, 0.6655434613708038), (1, 0.746359096565835)]\n",
      "[(2, 0.341641971009591), (3, 0.4556957719119699), (4, 0.2707662172220585), (5, 0.4159428397188536), (6, 0.47078731956761827), (7, 0.4556957719119699)]\n"
     ]
    }
   ],
   "source": [
    "for i in range(2):\n",
    "    print(corpus_tfidf[i])"
   ]
  },
  {
   "cell_type": "code",
   "execution_count": 19,
   "metadata": {},
   "outputs": [],
   "source": [
    "NUM_TOPICS = 10"
   ]
  },
  {
   "cell_type": "code",
   "execution_count": 20,
   "metadata": {},
   "outputs": [],
   "source": [
    "# https://radimrehurek.com/gensim/models/ldamodel.html#usage-examples\n",
    "lda = models.LdaModel(corpus, id2word=dictionary, num_topics=NUM_TOPICS)"
   ]
  },
  {
   "cell_type": "code",
   "execution_count": 21,
   "metadata": {},
   "outputs": [
    {
     "data": {
      "text/plain": [
       "[([(0.021002978, 'cdnpoli'),\n",
       "   (0.01826894, 'c'),\n",
       "   (0.017946737, 'people'),\n",
       "   (0.01731633, 'rcmp'),\n",
       "   (0.016082782, 'blockades'),\n",
       "   (0.015850948, 'land'),\n",
       "   (0.013375814, 'pro'),\n",
       "   (0.012665336, 'bcpoli'),\n",
       "   (0.011052729, 'support'),\n",
       "   (0.0105227735, 't'),\n",
       "   (0.010376567, 'media'),\n",
       "   (0.009849693, 'let'),\n",
       "   (0.009482365, 'letter'),\n",
       "   (0.009178472, 'mikefarnworthbc'),\n",
       "   (0.009146291, 'racist'),\n",
       "   (0.00909171, 'know'),\n",
       "   (0.009075, 'b'),\n",
       "   (0.008859755, 'funding'),\n",
       "   (0.0084663015, 'amp'),\n",
       "   (0.008245632, 'news')],\n",
       "  -10.655432813040731),\n",
       " ([(0.027480649, 'justintrudeau'),\n",
       "   (0.026037702, 'giving'),\n",
       "   (0.022257678, 'hey'),\n",
       "   (0.02187131, 'millions'),\n",
       "   (0.021389194, 'coastalgaslink'),\n",
       "   (0.01797731, 'calling'),\n",
       "   (0.017285813, 'exportdevcanada'),\n",
       "   (0.01728576, 'mary'),\n",
       "   (0.01728575, 'ng'),\n",
       "   (0.017158432, '000'),\n",
       "   (0.017030157, '34'),\n",
       "   (0.017030135, 'reject'),\n",
       "   (0.013765385, 'government'),\n",
       "   (0.012276152, 'm'),\n",
       "   (0.010345474, 'rcmp'),\n",
       "   (0.00992344, 'blame'),\n",
       "   (0.009667588, 'teririch'),\n",
       "   (0.0090253595, 'thejagmeetsingh'),\n",
       "   (0.0077351048, 't'),\n",
       "   (0.0072366763, 'resources')],\n",
       "  -11.650681811909902),\n",
       " ([(0.021970492, 't'),\n",
       "   (0.021166831, 'want'),\n",
       "   (0.018003998, 'calls'),\n",
       "   (0.017811956, 'rcmp'),\n",
       "   (0.017509276, 'people'),\n",
       "   (0.01641551, 'ndp'),\n",
       "   (0.015263781, 'f'),\n",
       "   (0.014863686, 'blockades'),\n",
       "   (0.014809697, 'nations'),\n",
       "   (0.0144434245, 'life'),\n",
       "   (0.012452168, 'lie'),\n",
       "   (0.012223542, 'ubcic'),\n",
       "   (0.012004672, 'need'),\n",
       "   (0.011743715, 'government'),\n",
       "   (0.010035419, 'native'),\n",
       "   (0.009845976, 'stand'),\n",
       "   (0.009155243, 'support'),\n",
       "   (0.008662456, 'taken'),\n",
       "   (0.008557388, 'authority'),\n",
       "   (0.0084966915, 'fn')],\n",
       "  -13.076879506733395),\n",
       " ([(0.09287857, 't'),\n",
       "   (0.09238907, 'amp'),\n",
       "   (0.09031476, 'canadian'),\n",
       "   (0.08917135, 'w'),\n",
       "   (0.088949665, 'b'),\n",
       "   (0.08879337, 'gov'),\n",
       "   (0.088644, 'agreement'),\n",
       "   (0.08831916, 'tentative'),\n",
       "   (0.08586058, 'pressure'),\n",
       "   (0.0052635213, 'land'),\n",
       "   (0.004610229, 'c'),\n",
       "   (0.002460315, 'follow'),\n",
       "   (0.0024181104, 'thank'),\n",
       "   (0.0022721968, 'fundraiser'),\n",
       "   (0.0022526004, 'face'),\n",
       "   (0.0021941767, 'paramilitary'),\n",
       "   (0.0019144752, 'abuses'),\n",
       "   (0.0019044771, 'defenders'),\n",
       "   (0.0018054837, 'government'),\n",
       "   (0.0017777813, 'issue')],\n",
       "  -13.174182988202366),\n",
       " ([(0.030081306, 'world'),\n",
       "   (0.022545794, 'people'),\n",
       "   (0.015827812, 'cdnpoli'),\n",
       "   (0.014414403, 'conference'),\n",
       "   (0.013889424, 'alberta'),\n",
       "   (0.013477225, 'democracy'),\n",
       "   (0.012488488, 'difference'),\n",
       "   (0.012486382, 'fraud'),\n",
       "   (0.012087888, 'protests'),\n",
       "   (0.00983063, 'cause'),\n",
       "   (0.009031079, 'thread'),\n",
       "   (0.00892065, 'solidarity'),\n",
       "   (0.008713799, 't'),\n",
       "   (0.0086769, 'protest'),\n",
       "   (0.008282912, 'day'),\n",
       "   (0.008162727, 'mining'),\n",
       "   (0.008067249, 'amp'),\n",
       "   (0.0080240015, 'u'),\n",
       "   (0.007853971, 'trudeau'),\n",
       "   (0.007786722, 'nation')],\n",
       "  -13.826563134237395),\n",
       " ([(0.027581245, 'amp'),\n",
       "   (0.024667613, 'katiepeheakoe'),\n",
       "   (0.019601524, 'youtube'),\n",
       "   (0.017367478, 'bcpoli'),\n",
       "   (0.016910575, 'cdnpoli'),\n",
       "   (0.014643234, 'land'),\n",
       "   (0.014383838, 'pipelines'),\n",
       "   (0.014127864, 'title'),\n",
       "   (0.011497786, 'people'),\n",
       "   (0.010454371, 'feds'),\n",
       "   (0.010444531, 'cbcindigenous'),\n",
       "   (0.010287181, 'leadership'),\n",
       "   (0.010274298, 'concerns'),\n",
       "   (0.010246792, 'sovereign'),\n",
       "   (0.010006379, 'podcast'),\n",
       "   (0.009892825, 'indigenousxca'),\n",
       "   (0.009713615, 'issue'),\n",
       "   (0.009637348, 'heart'),\n",
       "   (0.008297193, 'justintrudeau'),\n",
       "   (0.008219476, 'liberal')],\n",
       "  -15.641452274039976),\n",
       " ([(0.028890755, 'greenpeaceca'),\n",
       "   (0.020248543, 'solidarity'),\n",
       "   (0.020178441, 'rcmp'),\n",
       "   (0.015672645, 'cover'),\n",
       "   (0.014882987, 'support'),\n",
       "   (0.014139151, 'amp'),\n",
       "   (0.013794945, 'justintrudeau'),\n",
       "   (0.0131687205, 'statement'),\n",
       "   (0.012565603, 'deal'),\n",
       "   (0.011629621, 'coronavirus'),\n",
       "   (0.011004801, 'jjhorgan'),\n",
       "   (0.010358643, 'pm'),\n",
       "   (0.010141939, 'needs'),\n",
       "   (0.009698608, 'erinotoolemp'),\n",
       "   (0.009257793, 'economic'),\n",
       "   (0.009048162, 't'),\n",
       "   (0.008767077, 'link'),\n",
       "   (0.008724121, 'correct'),\n",
       "   (0.008585553, 'acting'),\n",
       "   (0.008378325, 'majority')],\n",
       "  -15.6710807779801),\n",
       " ([(0.017792426, 'people'),\n",
       "   (0.017307788, 'aptnnews'),\n",
       "   (0.014436289, 'cbcnews'),\n",
       "   (0.014362686, 'amp'),\n",
       "   (0.013469554, 'today'),\n",
       "   (0.012982728, 'greed'),\n",
       "   (0.012870569, '6'),\n",
       "   (0.012666407, 'shutting'),\n",
       "   (0.012643401, 'unistoten'),\n",
       "   (0.011867231, 'thats'),\n",
       "   (0.011248939, 'agree'),\n",
       "   (0.010586687, 'agenda'),\n",
       "   (0.010078186, 'helping'),\n",
       "   (0.009729922, 'dont'),\n",
       "   (0.008516218, 'mohawk'),\n",
       "   (0.008463631, 'problem'),\n",
       "   (0.008414704, 'money'),\n",
       "   (0.008181763, 'bcpoli'),\n",
       "   (0.0081761135, 'blockades'),\n",
       "   (0.008147694, 'day')],\n",
       "  -16.105743796165278),\n",
       " ([(0.016103705, 'maybe'),\n",
       "   (0.015567324, 'protesters'),\n",
       "   (0.015473187, 'lot'),\n",
       "   (0.014029943, 'lack'),\n",
       "   (0.014014772, 'wife'),\n",
       "   (0.010233767, 'people'),\n",
       "   (0.010144941, 'chief'),\n",
       "   (0.009723496, 'territory'),\n",
       "   (0.009349395, 'solidarity'),\n",
       "   (0.0092448965, 'nice'),\n",
       "   (0.008857386, 'justintrudeau'),\n",
       "   (0.008612469, 'going'),\n",
       "   (0.008249135, 'unceded'),\n",
       "   (0.008185035, 'landback'),\n",
       "   (0.008013283, 'struggle'),\n",
       "   (0.008013003, 'new'),\n",
       "   (0.00801234, 'showmekittys'),\n",
       "   (0.008010914, 'akurjata'),\n",
       "   (0.007949002, 'ur'),\n",
       "   (0.007858982, 'following')],\n",
       "  -16.848380242857445),\n",
       " ([(0.016366873, 'land'),\n",
       "   (0.014979505, 'yes'),\n",
       "   (0.01454324, 'coastalgaslink'),\n",
       "   (0.011269283, 'time'),\n",
       "   (0.010220828, 'interview'),\n",
       "   (0.010162299, 'speak'),\n",
       "   (0.010016923, 'unceded'),\n",
       "   (0.009967638, 'sovereignty'),\n",
       "   (0.009734187, 't'),\n",
       "   (0.0097130975, 'map'),\n",
       "   (0.0097117545, 'fund'),\n",
       "   (0.009606585, 'posted'),\n",
       "   (0.00960533, 'tribe'),\n",
       "   (0.009352507, 'stolen'),\n",
       "   (0.009350911, 'respectful'),\n",
       "   (0.009109843, 'unistoten'),\n",
       "   (0.008915027, 'climate'),\n",
       "   (0.0088291, 'good'),\n",
       "   (0.008169053, 'rights'),\n",
       "   (0.007555819, 'globalbc')],\n",
       "  -17.032315552074742)]"
      ]
     },
     "execution_count": 21,
     "metadata": {},
     "output_type": "execute_result"
    }
   ],
   "source": [
    "lda.top_topics(corpus=corpus, dictionary=dictionary) # (Probability, word) Coherence score"
   ]
  },
  {
   "cell_type": "code",
   "execution_count": 22,
   "metadata": {},
   "outputs": [
    {
     "data": {
      "text/plain": [
       "37"
      ]
     },
     "execution_count": 22,
     "metadata": {},
     "output_type": "execute_result"
    }
   ],
   "source": [
    "dictionary.token2id['coronavirus']"
   ]
  },
  {
   "cell_type": "code",
   "execution_count": 23,
   "metadata": {},
   "outputs": [
    {
     "data": {
      "text/plain": [
       "[(0, 0.011314897)]"
      ]
     },
     "execution_count": 23,
     "metadata": {},
     "output_type": "execute_result"
    }
   ],
   "source": [
    "lda.get_term_topics(dictionary.token2id['coronavirus'])"
   ]
  },
  {
   "cell_type": "code",
   "execution_count": 24,
   "metadata": {},
   "outputs": [
    {
     "data": {
      "text/plain": [
       "[(8, 0.01715834), (9, 0.012481387)]"
      ]
     },
     "execution_count": 24,
     "metadata": {},
     "output_type": "execute_result"
    }
   ],
   "source": [
    "lda.get_term_topics(dictionary.token2id['bcpoli'])"
   ]
  },
  {
   "cell_type": "code",
   "execution_count": 26,
   "metadata": {},
   "outputs": [
    {
     "name": "stderr",
     "output_type": "stream",
     "text": [
      "c:\\users\\owner\\miniconda3\\lib\\site-packages\\pyLDAvis\\_prepare.py:257: FutureWarning: Sorting because non-concatenation axis is not aligned. A future version\n",
      "of pandas will change to not sort by default.\n",
      "\n",
      "To accept the future behavior, pass 'sort=False'.\n",
      "\n",
      "To retain the current behavior and silence the warning, pass 'sort=True'.\n",
      "\n",
      "  return pd.concat([default_term_info] + list(topic_dfs))\n"
     ]
    }
   ],
   "source": [
    "vis = pyLDAvis.gensim.prepare(lda, corpus, dictionary)"
   ]
  },
  {
   "cell_type": "code",
   "execution_count": 27,
   "metadata": {},
   "outputs": [
    {
     "name": "stdout",
     "output_type": "stream",
     "text": [
      "\n",
      "Note: if you're in the IPython notebook, pyLDAvis.show() is not the best command\n",
      "      to use. Consider using pyLDAvis.display(), or pyLDAvis.enable_notebook().\n",
      "      See more information at http://pyLDAvis.github.io/quickstart.html .\n",
      "\n",
      "You must interrupt the kernel to end this command\n",
      "\n",
      "Serving to http://127.0.0.1:8889/    [Ctrl-C to exit]\n"
     ]
    },
    {
     "name": "stderr",
     "output_type": "stream",
     "text": [
      "127.0.0.1 - - [30/Mar/2020 15:49:27] \"GET / HTTP/1.1\" 200 -\n",
      "127.0.0.1 - - [30/Mar/2020 15:49:27] \"GET /LDAvis.css HTTP/1.1\" 200 -\n",
      "127.0.0.1 - - [30/Mar/2020 15:49:27] \"GET /d3.js HTTP/1.1\" 200 -\n",
      "127.0.0.1 - - [30/Mar/2020 15:49:27] code 404, message Not Found\n",
      "127.0.0.1 - - [30/Mar/2020 15:49:27] \"GET /favicon.ico HTTP/1.1\" 404 -\n",
      "127.0.0.1 - - [30/Mar/2020 15:49:27] \"GET /LDAvis.js HTTP/1.1\" 200 -\n"
     ]
    },
    {
     "name": "stdout",
     "output_type": "stream",
     "text": [
      "\n",
      "stopping Server...\n"
     ]
    }
   ],
   "source": [
    "pyLDAvis.show(vis)"
   ]
  },
  {
   "cell_type": "code",
   "execution_count": null,
   "metadata": {},
   "outputs": [],
   "source": []
  }
 ],
 "metadata": {
  "kernelspec": {
   "display_name": "Python 3",
   "language": "python",
   "name": "python3"
  },
  "language_info": {
   "codemirror_mode": {
    "name": "ipython",
    "version": 3
   },
   "file_extension": ".py",
   "mimetype": "text/x-python",
   "name": "python",
   "nbconvert_exporter": "python",
   "pygments_lexer": "ipython3",
   "version": "3.7.4"
  }
 },
 "nbformat": 4,
 "nbformat_minor": 4
}
