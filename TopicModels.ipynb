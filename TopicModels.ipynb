{
 "cells": [
  {
   "cell_type": "code",
   "execution_count": 1,
   "metadata": {},
   "outputs": [],
   "source": [
    "import re\n",
    "import numpy as np\n",
    "import pandas as pd\n",
    "import matplotlib.pyplot as plt\n",
    "import sklearn"
   ]
  },
  {
   "cell_type": "code",
   "execution_count": 2,
   "metadata": {},
   "outputs": [],
   "source": [
    "from sklearn.pipeline import Pipeline\n",
    "\n",
    "# Tutorials:\n",
    "# https://scikit-learn.org/stable/auto_examples/applications/plot_topics_extraction_with_nmf_lda.html\n",
    "# https://scikit-learn.org/stable/tutorial/text_analytics/working_with_text_data.html\n",
    "\n",
    "from sklearn.feature_extraction.text import ENGLISH_STOP_WORDS\n",
    "from sklearn.feature_extraction.text import CountVectorizer\n",
    "from sklearn.feature_extraction.text import TfidfVectorizer\n",
    "from sklearn.decomposition import LatentDirichletAllocation\n",
    "from sklearn.decomposition import NMF # Non-negative matrix factorization"
   ]
  },
  {
   "cell_type": "code",
   "execution_count": 3,
   "metadata": {},
   "outputs": [],
   "source": [
    "pd.set_option(\"display.max_colwidth\", 100)"
   ]
  },
  {
   "cell_type": "code",
   "execution_count": 4,
   "metadata": {},
   "outputs": [
    {
     "data": {
      "text/html": [
       "<div>\n",
       "<style scoped>\n",
       "    .dataframe tbody tr th:only-of-type {\n",
       "        vertical-align: middle;\n",
       "    }\n",
       "\n",
       "    .dataframe tbody tr th {\n",
       "        vertical-align: top;\n",
       "    }\n",
       "\n",
       "    .dataframe thead th {\n",
       "        text-align: right;\n",
       "    }\n",
       "</style>\n",
       "<table border=\"1\" class=\"dataframe\">\n",
       "  <thead>\n",
       "    <tr style=\"text-align: right;\">\n",
       "      <th></th>\n",
       "      <th>text</th>\n",
       "      <th>retweet_count</th>\n",
       "      <th>favorite_count</th>\n",
       "      <th>username</th>\n",
       "      <th>userdesc</th>\n",
       "      <th>verified</th>\n",
       "      <th>followers</th>\n",
       "      <th>created_at</th>\n",
       "      <th>has_urls</th>\n",
       "      <th>has_mentions</th>\n",
       "      <th>high_response</th>\n",
       "    </tr>\n",
       "  </thead>\n",
       "  <tbody>\n",
       "    <tr>\n",
       "      <th>0</th>\n",
       "      <td>They are starting to get more and more desperate...\\nThis shows that we’re winning. https://t.co...</td>\n",
       "      <td>24298</td>\n",
       "      <td>168648</td>\n",
       "      <td>GretaThunberg</td>\n",
       "      <td>17 year old climate and environmental activist with Asperger’s  #climatestrike #fridaysforfuture...</td>\n",
       "      <td>True</td>\n",
       "      <td>4079169</td>\n",
       "      <td>2020-02-29 15:26:10</td>\n",
       "      <td>True</td>\n",
       "      <td>False</td>\n",
       "      <td>True</td>\n",
       "    </tr>\n",
       "    <tr>\n",
       "      <th>1</th>\n",
       "      <td>I do not believe we will defeat Donald Trump with a candidate like Joe Biden who supported the I...</td>\n",
       "      <td>18592</td>\n",
       "      <td>77895</td>\n",
       "      <td>BernieSanders</td>\n",
       "      <td>U.S. Senator from Vermont and candidate for President of the United States.</td>\n",
       "      <td>True</td>\n",
       "      <td>10951634</td>\n",
       "      <td>2020-03-02 20:30:56</td>\n",
       "      <td>False</td>\n",
       "      <td>False</td>\n",
       "      <td>True</td>\n",
       "    </tr>\n",
       "    <tr>\n",
       "      <th>2</th>\n",
       "      <td>Indigenous rights = Climate justice\\n#WetsuwetenStrong #KeepItInTheGround https://t.co/1kYNumyoQT</td>\n",
       "      <td>4609</td>\n",
       "      <td>21488</td>\n",
       "      <td>GretaThunberg</td>\n",
       "      <td>17 year old climate and environmental activist with Asperger’s  #climatestrike #fridaysforfuture...</td>\n",
       "      <td>True</td>\n",
       "      <td>4086646</td>\n",
       "      <td>2020-02-08 13:36:48</td>\n",
       "      <td>True</td>\n",
       "      <td>False</td>\n",
       "      <td>True</td>\n",
       "    </tr>\n",
       "    <tr>\n",
       "      <th>3</th>\n",
       "      <td>Stop running away from your problem. Run into your problem.  It will suck.  Really suck. But, wh...</td>\n",
       "      <td>2739</td>\n",
       "      <td>16317</td>\n",
       "      <td>pulte</td>\n",
       "      <td>The Philanthropist. Inventor of Twitter Philanthropy. Giving Money, Food, and Rent To People In ...</td>\n",
       "      <td>True</td>\n",
       "      <td>2059165</td>\n",
       "      <td>2020-02-29 21:19:22</td>\n",
       "      <td>True</td>\n",
       "      <td>False</td>\n",
       "      <td>True</td>\n",
       "    </tr>\n",
       "    <tr>\n",
       "      <th>4</th>\n",
       "      <td>Support the Wet’suwet’en Nation and the pipeline protests happening now in Canada! #WetsuwenStro...</td>\n",
       "      <td>2972</td>\n",
       "      <td>10035</td>\n",
       "      <td>GretaThunberg</td>\n",
       "      <td>17 year old climate and environmental activist with Asperger’s  #climatestrike #fridaysforfuture...</td>\n",
       "      <td>True</td>\n",
       "      <td>4091979</td>\n",
       "      <td>2020-02-18 10:13:02</td>\n",
       "      <td>True</td>\n",
       "      <td>False</td>\n",
       "      <td>True</td>\n",
       "    </tr>\n",
       "  </tbody>\n",
       "</table>\n",
       "</div>"
      ],
      "text/plain": [
       "                                                                                                  text  \\\n",
       "0  They are starting to get more and more desperate...\\nThis shows that we’re winning. https://t.co...   \n",
       "1  I do not believe we will defeat Donald Trump with a candidate like Joe Biden who supported the I...   \n",
       "2    Indigenous rights = Climate justice\\n#WetsuwetenStrong #KeepItInTheGround https://t.co/1kYNumyoQT   \n",
       "3  Stop running away from your problem. Run into your problem.  It will suck.  Really suck. But, wh...   \n",
       "4  Support the Wet’suwet’en Nation and the pipeline protests happening now in Canada! #WetsuwenStro...   \n",
       "\n",
       "   retweet_count  favorite_count       username  \\\n",
       "0          24298          168648  GretaThunberg   \n",
       "1          18592           77895  BernieSanders   \n",
       "2           4609           21488  GretaThunberg   \n",
       "3           2739           16317          pulte   \n",
       "4           2972           10035  GretaThunberg   \n",
       "\n",
       "                                                                                              userdesc  \\\n",
       "0  17 year old climate and environmental activist with Asperger’s  #climatestrike #fridaysforfuture...   \n",
       "1                          U.S. Senator from Vermont and candidate for President of the United States.   \n",
       "2  17 year old climate and environmental activist with Asperger’s  #climatestrike #fridaysforfuture...   \n",
       "3  The Philanthropist. Inventor of Twitter Philanthropy. Giving Money, Food, and Rent To People In ...   \n",
       "4  17 year old climate and environmental activist with Asperger’s  #climatestrike #fridaysforfuture...   \n",
       "\n",
       "   verified  followers           created_at  has_urls  has_mentions  \\\n",
       "0      True    4079169  2020-02-29 15:26:10      True         False   \n",
       "1      True   10951634  2020-03-02 20:30:56     False         False   \n",
       "2      True    4086646  2020-02-08 13:36:48      True         False   \n",
       "3      True    2059165  2020-02-29 21:19:22      True         False   \n",
       "4      True    4091979  2020-02-18 10:13:02      True         False   \n",
       "\n",
       "   high_response  \n",
       "0           True  \n",
       "1           True  \n",
       "2           True  \n",
       "3           True  \n",
       "4           True  "
      ]
     },
     "execution_count": 4,
     "metadata": {},
     "output_type": "execute_result"
    }
   ],
   "source": [
    "df = pd.read_csv('aggregation.csv')\n",
    "df.head()"
   ]
  },
  {
   "cell_type": "code",
   "execution_count": 5,
   "metadata": {},
   "outputs": [],
   "source": [
    "corpus = list(df['text'])"
   ]
  },
  {
   "cell_type": "code",
   "execution_count": 6,
   "metadata": {},
   "outputs": [],
   "source": [
    "# Remove URL junk\n",
    "url_pattern = re.compile(\"http[^\\s]+\", re.I)\n",
    "\n",
    "for i in range(len(corpus)):\n",
    "    corpus[i] = url_pattern.sub('', corpus[i])"
   ]
  },
  {
   "cell_type": "code",
   "execution_count": 7,
   "metadata": {},
   "outputs": [],
   "source": [
    "non_ascii_pattern = re.compile(\"[^\\u0000-\\u2300]\")"
   ]
  },
  {
   "cell_type": "code",
   "execution_count": 8,
   "metadata": {},
   "outputs": [],
   "source": [
    "# from tutorial\n",
    "def print_top_words(model, feature_names, n_top_words):\n",
    "    for i, topic in enumerate(model.components_):\n",
    "        message = \"Topic #%d: \" % i\n",
    "        message += \"   \".join([feature_names[i]\n",
    "                             for i in topic.argsort()[:-n_top_words - 1:-1]])\n",
    "        print(message)\n",
    "        print()\n",
    "    print()"
   ]
  },
  {
   "cell_type": "code",
   "execution_count": 9,
   "metadata": {},
   "outputs": [],
   "source": [
    "N_TOPICS = 8"
   ]
  },
  {
   "cell_type": "code",
   "execution_count": 10,
   "metadata": {},
   "outputs": [],
   "source": [
    "add_stop_words = ['wetsuweten', 'wet', 'suwet', 'en',\n",
    "                  'wetsuwetenstrong', 'wetsuwetensolidarity', 'shutdowncanada',\n",
    "                    'bc', 'british', 'columbia', 'canada', 'indigenous', 'pipeline',\n",
    "                 'hereditary', 'chiefs']\n",
    "\n",
    "custom_stop_words = set(ENGLISH_STOP_WORDS).union(set(add_stop_words))"
   ]
  },
  {
   "cell_type": "code",
   "execution_count": 11,
   "metadata": {},
   "outputs": [],
   "source": [
    "# Text frequency*Inverse document frequency matrix\n",
    "# max_df: ignore terms with frequency higher than\n",
    "# lowercase = True by default\n",
    "matrix = TfidfVectorizer(strip_accents='unicode',\n",
    "                          analyzer='word',\n",
    "                          stop_words=custom_stop_words,\n",
    "                          ngram_range=(1,1))\n",
    "M = matrix.fit_transform(corpus)"
   ]
  },
  {
   "cell_type": "code",
   "execution_count": 12,
   "metadata": {},
   "outputs": [
    {
     "name": "stdout",
     "output_type": "stream",
     "text": [
      "TfIdf N-grams: 8388\n"
     ]
    }
   ],
   "source": [
    "n_grams = matrix.get_feature_names()\n",
    "print(\"TfIdf N-grams:\", len(n_grams))"
   ]
  },
  {
   "cell_type": "code",
   "execution_count": 13,
   "metadata": {},
   "outputs": [],
   "source": [
    "# Use raw counts (not TfIdf) for LDA\n",
    "count_vect = CountVectorizer(strip_accents='unicode',\n",
    "                             analyzer='word',\n",
    "                             stop_words=custom_stop_words,\n",
    "                             ngram_range=(1,1))\n",
    "counts = count_vect.fit_transform(corpus)"
   ]
  },
  {
   "cell_type": "code",
   "execution_count": 14,
   "metadata": {},
   "outputs": [],
   "source": [
    "raw_n_grams = count_vect.get_feature_names()"
   ]
  },
  {
   "cell_type": "code",
   "execution_count": 15,
   "metadata": {},
   "outputs": [],
   "source": [
    "# n_components: if unset, all features used\n",
    "# solver: multiplicative update optimization (used in topic modelling examples)\n",
    "# https://mlexplained.com/2017/12/28/a-practical-introduction-to-nmf-nonnegative-matrix-factorization/\n",
    "nmf = NMF(n_components=N_TOPICS, solver='mu')"
   ]
  },
  {
   "cell_type": "code",
   "execution_count": 16,
   "metadata": {},
   "outputs": [],
   "source": [
    "W = nmf.fit_transform(M)"
   ]
  },
  {
   "cell_type": "code",
   "execution_count": 17,
   "metadata": {},
   "outputs": [
    {
     "data": {
      "text/plain": [
       "array([[7.50729061e-159, 1.94264231e-100, 6.06853975e-004, ...,\n",
       "        9.27147427e-050, 1.00633800e-163, 4.01916292e-032],\n",
       "       [1.74806424e-020, 8.28171486e-001, 2.47926854e-021, ...,\n",
       "        1.48859078e-043, 2.22010941e-023, 2.41524136e-025],\n",
       "       [6.58788939e-004, 0.00000000e+000, 1.09713837e-259, ...,\n",
       "        6.57399923e-004, 2.22995457e-033, 1.31127587e-052],\n",
       "       ...,\n",
       "       [0.00000000e+000, 0.00000000e+000, 1.66689250e-004, ...,\n",
       "        3.72590178e-009, 0.00000000e+000, 4.82070546e-005],\n",
       "       [0.00000000e+000, 0.00000000e+000, 1.01314384e-008, ...,\n",
       "        5.03812491e-003, 5.42389995e-004, 3.07437590e-004],\n",
       "       [0.00000000e+000, 1.38948067e-015, 0.00000000e+000, ...,\n",
       "        5.90420232e-017, 0.00000000e+000, 1.53628254e-004]])"
      ]
     },
     "execution_count": 17,
     "metadata": {},
     "output_type": "execute_result"
    }
   ],
   "source": [
    "nmf.components_"
   ]
  },
  {
   "cell_type": "code",
   "execution_count": 18,
   "metadata": {},
   "outputs": [
    {
     "name": "stdout",
     "output_type": "stream",
     "text": [
      "Topic #0: pressure   tentative   gov   canadian   agreement   amp   concerns   title   reached   rights   resolve   doesn   governments   cdn   come   titl   nation   talks   government   milestone   thread   cgl   good   lan   ag   govt   watch   details   stand   media\n",
      "\n",
      "Topic #1: exportdevcanada   mary_ng   millions   34   reject   giving   000   calling   hey   coastalgaslink   justintrudeau   jjhorgan   bcrcmp   globalbc   ho   smacdonald__   loan   happening   dollars   carolyn_bennett   taxpayer   economic   weeks   canadianpm   thread   survival   north   matters   sitec   grassroots\n",
      "\n",
      "Topic #2: proposed   ministers   reach   agreement   dispute   news   breaking   cbc   reached   federal   arrangement   deal   title   governments   government   details   provincial   rights   draft   nation   talks   wets   uwet   days   milestone   chief   say   icymi   recognize   saying\n",
      "\n",
      "Topic #3: solidarity   students   support   today   nation   blockade   walkout   student   amp   action   happening   rail   statement   youth   iy4wetsuweten   stand   montreal   walk   london   march   legislature   university   landback   blockades   national   rally   actions   uk   protests   pagan\n",
      "\n",
      "Topic #4: cdnpoli   bcpoli   blockades   kahnawake   tyendinaga   thread   trudeau   government   onpoli   read   cbcalerts   ads   rail   media   companies   sure   want   oil   aboriginal   canpoli   stop   denouncing   funded   work   facebook   reconciliation   linked   groups   deal   canadians\n",
      "\n",
      "Topic #5: rcmp   coastal   gaslink   solicitor   general   farnworth   authorized   mike   resources   redeploying   injunction   response   cgl   ubcic   territory   authorizing   release   ndp   deployment   bccla   revealing   force   explosive   massive   letter   demand   resignation   coastalgaslink   ecosocialists   mikefarnworthbc\n",
      "\n",
      "Topic #6: people   want   says   chief   don   government   know   deal   just   carolyn_bennett   ceded   govern   moral   literally   authority   time   scottfraserndp   like   say   amp   ll   way   woos   going   turn   consent   jjhorgan   think   th   need\n",
      "\n",
      "Topic #7: land   defenders   rights   title   support   good   protectors   evening   activists   water   power   unceded   walk   reached   concerns   arrangement   sovereignty   right   trudeau   respect   sparked   shut   armchair   regarding   issues   stolen   draft   justice   peeps   human\n",
      "\n",
      "\n"
     ]
    }
   ],
   "source": [
    "print_top_words(nmf, n_grams, 30)"
   ]
  },
  {
   "cell_type": "code",
   "execution_count": 19,
   "metadata": {},
   "outputs": [],
   "source": [
    "lda = LatentDirichletAllocation(n_components=N_TOPICS, \n",
    "                                learning_method='online')"
   ]
  },
  {
   "cell_type": "code",
   "execution_count": 20,
   "metadata": {},
   "outputs": [],
   "source": [
    "L = lda.fit_transform(counts)"
   ]
  },
  {
   "cell_type": "code",
   "execution_count": 21,
   "metadata": {},
   "outputs": [
    {
     "name": "stdout",
     "output_type": "stream",
     "text": [
      "Topic #0: did   blockades   thread   yes   elected   led   got   band   rally   actions   getting   ongoing   ctvnews   thanks   facebook   media   struggle   water   trudeau   political   2020   ads   sure   just   title   companies   leadership   linked   fossil   undrip\n",
      "\n",
      "Topic #1: solidarity   support   coastal   gaslink   students   need   read   deal   work   statement   don   today   march   right   youth   land   walkout   isn   governments   federal   gas   student   know   make   walk   trudeau   issues   great   university   legal\n",
      "\n",
      "Topic #2: hey   calling   youth   000   34   colonial   exportdevcanada   legislature   rail   giving   going   way   justintrudeau   iy4wetsuweten   trudeau   cbcnews   chief   love   fight   says   vicpdcanada   won   lot   women   night   foreign   tonight   live   racism   maybe\n",
      "\n",
      "Topic #3: amp   pressure   rights   ve   let   reconciliation   today   minister   climate   land   nation   territory   cgl   talks   blockades   watch   great   look   groups   globalbc   protest   rcmp   important   thing   said   new   oil   people   protests   title\n",
      "\n",
      "Topic #4: good   rcmp   carolyn_bennett   chief   government   respect   scottfraserndp   general   nations   resources   ndp   solicitor   years   release   days   woos   letter   liberal   ll   authorized   called   horgan   farnworth   really   mike   ubcic   massive   response   alberta   john\n",
      "\n",
      "Topic #5: news   think   oil   project   big   rcmp   conference   breaking   needs   fighting   lng   legal   talking   report   scottfraserndp   hope   indigenousrights   decision   delgamuukw   press   money   terrorism   iy4wetsuweten   context   injunction   fracking   follow   major   conflict   canadianpm\n",
      "\n",
      "Topic #6: people   coastalgaslink   justintrudeau   jjhorgan   want   just   like   millions   reject   mary_ng   don   support   amp   stop   protests   government   consent   canadians   deal   law   new   police   says   day   video   issue   supporters   peoples   fn   native\n",
      "\n",
      "Topic #7: agreement   canadian   cdnpoli   tentative   gov   land   solidarity   proposed   time   bcpoli   blockade   defenders   say   ministers   th   kahnawake   know   stand   people   tyendinaga   nation   world   does   landback   thank   reached   gidimten   reach   standing   unistoten\n",
      "\n",
      "\n"
     ]
    }
   ],
   "source": [
    "print_top_words(lda, raw_n_grams, 30)"
   ]
  },
  {
   "cell_type": "code",
   "execution_count": 22,
   "metadata": {},
   "outputs": [
    {
     "data": {
      "text/plain": [
       "-295634.17725081113"
      ]
     },
     "execution_count": 22,
     "metadata": {},
     "output_type": "execute_result"
    }
   ],
   "source": [
    "lda.score(counts)"
   ]
  },
  {
   "cell_type": "code",
   "execution_count": 23,
   "metadata": {},
   "outputs": [
    {
     "data": {
      "text/plain": [
       "5496.083995797883"
      ]
     },
     "execution_count": 23,
     "metadata": {},
     "output_type": "execute_result"
    }
   ],
   "source": [
    "lda.perplexity(counts)"
   ]
  },
  {
   "cell_type": "code",
   "execution_count": 24,
   "metadata": {},
   "outputs": [
    {
     "data": {
      "text/plain": [
       "{'batch_size': 128,\n",
       " 'doc_topic_prior': None,\n",
       " 'evaluate_every': -1,\n",
       " 'learning_decay': 0.7,\n",
       " 'learning_method': 'online',\n",
       " 'learning_offset': 10.0,\n",
       " 'max_doc_update_iter': 100,\n",
       " 'max_iter': 10,\n",
       " 'mean_change_tol': 0.001,\n",
       " 'n_components': 8,\n",
       " 'n_jobs': None,\n",
       " 'perp_tol': 0.1,\n",
       " 'random_state': None,\n",
       " 'topic_word_prior': None,\n",
       " 'total_samples': 1000000.0,\n",
       " 'verbose': 0}"
      ]
     },
     "execution_count": 24,
     "metadata": {},
     "output_type": "execute_result"
    }
   ],
   "source": [
    "lda.get_params()"
   ]
  },
  {
   "cell_type": "code",
   "execution_count": null,
   "metadata": {},
   "outputs": [],
   "source": []
  }
 ],
 "metadata": {
  "kernelspec": {
   "display_name": "Python 3",
   "language": "python",
   "name": "python3"
  },
  "language_info": {
   "codemirror_mode": {
    "name": "ipython",
    "version": 3
   },
   "file_extension": ".py",
   "mimetype": "text/x-python",
   "name": "python",
   "nbconvert_exporter": "python",
   "pygments_lexer": "ipython3",
   "version": "3.7.4"
  }
 },
 "nbformat": 4,
 "nbformat_minor": 4
}
