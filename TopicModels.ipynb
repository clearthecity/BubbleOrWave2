{
 "cells": [
  {
   "cell_type": "code",
   "execution_count": 1,
   "metadata": {},
   "outputs": [],
   "source": [
    "from __future__ import unicode_literals\n",
    "import re\n",
    "import numpy as np\n",
    "import pandas as pd\n",
    "import matplotlib.pyplot as plt\n",
    "# import seaborn as sns\n",
    "import sklearn"
   ]
  },
  {
   "cell_type": "code",
   "execution_count": 2,
   "metadata": {},
   "outputs": [],
   "source": [
    "from sklearn.pipeline import Pipeline\n",
    "\n",
    "# Tutorials:\n",
    "# https://scikit-learn.org/stable/auto_examples/applications/plot_topics_extraction_with_nmf_lda.html\n",
    "# https://scikit-learn.org/stable/tutorial/text_analytics/working_with_text_data.html\n",
    "\n",
    "from sklearn.feature_extraction.text import CountVectorizer\n",
    "from sklearn.feature_extraction.text import TfidfVectorizer\n",
    "from sklearn.decomposition import LatentDirichletAllocation\n",
    "from sklearn.decomposition import NMF # Non-negative matrix factorization"
   ]
  },
  {
   "cell_type": "code",
   "execution_count": 3,
   "metadata": {},
   "outputs": [],
   "source": [
    "pd.set_option(\"display.max_colwidth\", 100)"
   ]
  },
  {
   "cell_type": "code",
   "execution_count": 4,
   "metadata": {},
   "outputs": [
    {
     "data": {
      "text/html": [
       "<div>\n",
       "<style scoped>\n",
       "    .dataframe tbody tr th:only-of-type {\n",
       "        vertical-align: middle;\n",
       "    }\n",
       "\n",
       "    .dataframe tbody tr th {\n",
       "        vertical-align: top;\n",
       "    }\n",
       "\n",
       "    .dataframe thead th {\n",
       "        text-align: right;\n",
       "    }\n",
       "</style>\n",
       "<table border=\"1\" class=\"dataframe\">\n",
       "  <thead>\n",
       "    <tr style=\"text-align: right;\">\n",
       "      <th></th>\n",
       "      <th>text</th>\n",
       "      <th>retweet_count</th>\n",
       "      <th>favorite_count</th>\n",
       "      <th>username</th>\n",
       "      <th>userdesc</th>\n",
       "      <th>verified</th>\n",
       "      <th>followers</th>\n",
       "      <th>created_at</th>\n",
       "      <th>has_urls</th>\n",
       "      <th>has_mentions</th>\n",
       "      <th>high_response</th>\n",
       "    </tr>\n",
       "  </thead>\n",
       "  <tbody>\n",
       "    <tr>\n",
       "      <th>0</th>\n",
       "      <td>They are starting to get more and more desperate...\\nThis shows that we’re winning. https://t.co...</td>\n",
       "      <td>24298</td>\n",
       "      <td>168648</td>\n",
       "      <td>GretaThunberg</td>\n",
       "      <td>17 year old climate and environmental activist with Asperger’s  #climatestrike #fridaysforfuture...</td>\n",
       "      <td>True</td>\n",
       "      <td>4079169</td>\n",
       "      <td>2020-02-29 15:26:10</td>\n",
       "      <td>True</td>\n",
       "      <td>False</td>\n",
       "      <td>True</td>\n",
       "    </tr>\n",
       "    <tr>\n",
       "      <th>1</th>\n",
       "      <td>I do not believe we will defeat Donald Trump with a candidate like Joe Biden who supported the I...</td>\n",
       "      <td>18592</td>\n",
       "      <td>77895</td>\n",
       "      <td>BernieSanders</td>\n",
       "      <td>U.S. Senator from Vermont and candidate for President of the United States.</td>\n",
       "      <td>True</td>\n",
       "      <td>10951634</td>\n",
       "      <td>2020-03-02 20:30:56</td>\n",
       "      <td>False</td>\n",
       "      <td>False</td>\n",
       "      <td>True</td>\n",
       "    </tr>\n",
       "    <tr>\n",
       "      <th>2</th>\n",
       "      <td>Indigenous rights = Climate justice\\n#WetsuwetenStrong #KeepItInTheGround https://t.co/1kYNumyoQT</td>\n",
       "      <td>4609</td>\n",
       "      <td>21488</td>\n",
       "      <td>GretaThunberg</td>\n",
       "      <td>17 year old climate and environmental activist with Asperger’s  #climatestrike #fridaysforfuture...</td>\n",
       "      <td>True</td>\n",
       "      <td>4086646</td>\n",
       "      <td>2020-02-08 13:36:48</td>\n",
       "      <td>True</td>\n",
       "      <td>False</td>\n",
       "      <td>True</td>\n",
       "    </tr>\n",
       "    <tr>\n",
       "      <th>3</th>\n",
       "      <td>Stop running away from your problem. Run into your problem.  It will suck.  Really suck. But, wh...</td>\n",
       "      <td>2739</td>\n",
       "      <td>16317</td>\n",
       "      <td>pulte</td>\n",
       "      <td>The Philanthropist. Inventor of Twitter Philanthropy. Giving Money, Food, and Rent To People In ...</td>\n",
       "      <td>True</td>\n",
       "      <td>2059165</td>\n",
       "      <td>2020-02-29 21:19:22</td>\n",
       "      <td>True</td>\n",
       "      <td>False</td>\n",
       "      <td>True</td>\n",
       "    </tr>\n",
       "    <tr>\n",
       "      <th>4</th>\n",
       "      <td>Support the Wet’suwet’en Nation and the pipeline protests happening now in Canada! #WetsuwenStro...</td>\n",
       "      <td>2972</td>\n",
       "      <td>10035</td>\n",
       "      <td>GretaThunberg</td>\n",
       "      <td>17 year old climate and environmental activist with Asperger’s  #climatestrike #fridaysforfuture...</td>\n",
       "      <td>True</td>\n",
       "      <td>4091979</td>\n",
       "      <td>2020-02-18 10:13:02</td>\n",
       "      <td>True</td>\n",
       "      <td>False</td>\n",
       "      <td>True</td>\n",
       "    </tr>\n",
       "  </tbody>\n",
       "</table>\n",
       "</div>"
      ],
      "text/plain": [
       "                                                                                                  text  \\\n",
       "0  They are starting to get more and more desperate...\\nThis shows that we’re winning. https://t.co...   \n",
       "1  I do not believe we will defeat Donald Trump with a candidate like Joe Biden who supported the I...   \n",
       "2    Indigenous rights = Climate justice\\n#WetsuwetenStrong #KeepItInTheGround https://t.co/1kYNumyoQT   \n",
       "3  Stop running away from your problem. Run into your problem.  It will suck.  Really suck. But, wh...   \n",
       "4  Support the Wet’suwet’en Nation and the pipeline protests happening now in Canada! #WetsuwenStro...   \n",
       "\n",
       "   retweet_count  favorite_count       username  \\\n",
       "0          24298          168648  GretaThunberg   \n",
       "1          18592           77895  BernieSanders   \n",
       "2           4609           21488  GretaThunberg   \n",
       "3           2739           16317          pulte   \n",
       "4           2972           10035  GretaThunberg   \n",
       "\n",
       "                                                                                              userdesc  \\\n",
       "0  17 year old climate and environmental activist with Asperger’s  #climatestrike #fridaysforfuture...   \n",
       "1                          U.S. Senator from Vermont and candidate for President of the United States.   \n",
       "2  17 year old climate and environmental activist with Asperger’s  #climatestrike #fridaysforfuture...   \n",
       "3  The Philanthropist. Inventor of Twitter Philanthropy. Giving Money, Food, and Rent To People In ...   \n",
       "4  17 year old climate and environmental activist with Asperger’s  #climatestrike #fridaysforfuture...   \n",
       "\n",
       "   verified  followers           created_at  has_urls  has_mentions  \\\n",
       "0      True    4079169  2020-02-29 15:26:10      True         False   \n",
       "1      True   10951634  2020-03-02 20:30:56     False         False   \n",
       "2      True    4086646  2020-02-08 13:36:48      True         False   \n",
       "3      True    2059165  2020-02-29 21:19:22      True         False   \n",
       "4      True    4091979  2020-02-18 10:13:02      True         False   \n",
       "\n",
       "   high_response  \n",
       "0           True  \n",
       "1           True  \n",
       "2           True  \n",
       "3           True  \n",
       "4           True  "
      ]
     },
     "execution_count": 4,
     "metadata": {},
     "output_type": "execute_result"
    }
   ],
   "source": [
    "df = pd.read_csv('aggregation.csv')\n",
    "df.head()"
   ]
  },
  {
   "cell_type": "code",
   "execution_count": 5,
   "metadata": {},
   "outputs": [],
   "source": [
    "corpus = list(df['text'])"
   ]
  },
  {
   "cell_type": "code",
   "execution_count": 6,
   "metadata": {},
   "outputs": [],
   "source": [
    "# Remove URL junk\n",
    "url_pattern = re.compile(\"http[^\\s]+\", re.I)\n",
    "\n",
    "for i in range(len(corpus)):\n",
    "    corpus[i] = url_pattern.sub('', corpus[i])"
   ]
  },
  {
   "cell_type": "code",
   "execution_count": 7,
   "metadata": {},
   "outputs": [],
   "source": [
    "non_ascii_pattern = re.compile(\"[^\\u0000-\\u2300]\")"
   ]
  },
  {
   "cell_type": "code",
   "execution_count": 32,
   "metadata": {},
   "outputs": [],
   "source": [
    "# from tutorial\n",
    "def print_top_words(model, feature_names, n_top_words):\n",
    "    for i, topic in enumerate(model.components_):\n",
    "        message = \"Topic #%d: \" % i\n",
    "        message += \"   \".join([feature_names[i]\n",
    "                             for i in topic.argsort()[:-n_top_words - 1:-1]])\n",
    "        print(message)\n",
    "        print()\n",
    "    print()"
   ]
  },
  {
   "cell_type": "code",
   "execution_count": 27,
   "metadata": {},
   "outputs": [],
   "source": [
    "N_TOPICS = 8"
   ]
  },
  {
   "cell_type": "code",
   "execution_count": 8,
   "metadata": {},
   "outputs": [],
   "source": [
    "from sklearn.feature_extraction.text import ENGLISH_STOP_WORDS\n",
    "\n",
    "add_stop_words = ['wetsuweten', 'wet', 'suwet', 'en',\n",
    "                  'wetsuwetenstrong', 'wetsuwetensolidarity', 'shutdowncanada',\n",
    "                    'bc', 'british', 'columbia', 'canada', 'indigenous', 'pipeline',\n",
    "                 'hereditary', 'chiefs']\n",
    "\n",
    "custom_stop_words = set(ENGLISH_STOP_WORDS).union(set(add_stop_words))"
   ]
  },
  {
   "cell_type": "code",
   "execution_count": 41,
   "metadata": {},
   "outputs": [],
   "source": [
    "# Text frequency*Inverse document frequency matrix\n",
    "# max_df: ignore terms with frequency higher than\n",
    "# lowercase = True by default\n",
    "matrix = TfidfVectorizer(strip_accents='unicode',\n",
    "                          analyzer='word',\n",
    "                          stop_words=custom_stop_words,\n",
    "                          ngram_range=(1,1))\n",
    "M = matrix.fit_transform(corpus)"
   ]
  },
  {
   "cell_type": "code",
   "execution_count": 42,
   "metadata": {},
   "outputs": [
    {
     "name": "stdout",
     "output_type": "stream",
     "text": [
      "TfIdf N-grams: 8388\n"
     ]
    }
   ],
   "source": [
    "n_grams = matrix.get_feature_names()\n",
    "print(\"TfIdf N-grams:\", len(n_grams))"
   ]
  },
  {
   "cell_type": "code",
   "execution_count": 43,
   "metadata": {},
   "outputs": [],
   "source": [
    "# Use raw counts (not TfIdf) for LDA\n",
    "count_vect = CountVectorizer(strip_accents='unicode',\n",
    "                             analyzer='word',\n",
    "                             stop_words=custom_stop_words,\n",
    "                             ngram_range=(1,1))\n",
    "counts = count_vect.fit_transform(corpus)"
   ]
  },
  {
   "cell_type": "code",
   "execution_count": 44,
   "metadata": {},
   "outputs": [],
   "source": [
    "raw_n_grams = count_vect.get_feature_names()"
   ]
  },
  {
   "cell_type": "code",
   "execution_count": 45,
   "metadata": {},
   "outputs": [],
   "source": [
    "# n_components: if unset, all features used\n",
    "# solver: multiplicative update optimization (used in topic modelling examples)\n",
    "# https://mlexplained.com/2017/12/28/a-practical-introduction-to-nmf-nonnegative-matrix-factorization/\n",
    "nmf = NMF(n_components=N_TOPICS, solver='mu')"
   ]
  },
  {
   "cell_type": "code",
   "execution_count": 46,
   "metadata": {},
   "outputs": [],
   "source": [
    "W = nmf.fit_transform(M)"
   ]
  },
  {
   "cell_type": "code",
   "execution_count": 47,
   "metadata": {},
   "outputs": [
    {
     "data": {
      "text/plain": [
       "array([[1.57774483e-160, 3.61599067e-100, 6.00856959e-004, ...,\n",
       "        3.10675338e-050, 1.72849993e-163, 8.90580307e-033],\n",
       "       [1.20499047e-021, 8.28161472e-001, 3.03715051e-023, ...,\n",
       "        3.53695620e-043, 2.45675344e-023, 3.09979410e-024],\n",
       "       [6.83220665e-004, 0.00000000e+000, 1.89165886e-256, ...,\n",
       "        6.74570183e-004, 8.90065713e-033, 3.53358272e-050],\n",
       "       ...,\n",
       "       [0.00000000e+000, 0.00000000e+000, 3.39546630e-008, ...,\n",
       "        4.85965275e-007, 0.00000000e+000, 5.02176876e-005],\n",
       "       [0.00000000e+000, 0.00000000e+000, 5.32611923e-004, ...,\n",
       "        5.03695731e-003, 5.19770659e-004, 3.12108577e-004],\n",
       "       [0.00000000e+000, 3.32606976e-015, 0.00000000e+000, ...,\n",
       "        0.00000000e+000, 0.00000000e+000, 1.52802276e-004]])"
      ]
     },
     "execution_count": 47,
     "metadata": {},
     "output_type": "execute_result"
    }
   ],
   "source": [
    "nmf.components_"
   ]
  },
  {
   "cell_type": "code",
   "execution_count": 48,
   "metadata": {},
   "outputs": [
    {
     "name": "stdout",
     "output_type": "stream",
     "text": [
      "Topic #0: pressure   tentative   gov   canadian   agreement   amp   concerns   title   reached   rights   resolve   doesn   governments   cdn   come   titl   nation   cgl   talks   government   milestone   thread   good   lan   ag   govt   watch   details   media   does\n",
      "\n",
      "Topic #1: exportdevcanada   mary_ng   millions   34   reject   giving   000   calling   hey   coastalgaslink   justintrudeau   jjhorgan   bcrcmp   globalbc   ho   smacdonald__   loan   happening   dollars   carolyn_bennett   taxpayer   economic   weeks   thread   canadianpm   survival   north   matters   sitec   grassroots\n",
      "\n",
      "Topic #2: proposed   ministers   reach   agreement   dispute   news   breaking   cbc   reached   federal   arrangement   deal   title   governments   government   details   provincial   rights   draft   nation   talks   wets   uwet   days   milestone   chief   say   icymi   recognize   saying\n",
      "\n",
      "Topic #3: solidarity   students   today   support   nation   blockade   walkout   student   amp   action   happening   rail   statement   youth   iy4wetsuweten   montreal   stand   london   walk   march   legislature   university   landback   rally   national   actions   uk   blockades   protests   pagan\n",
      "\n",
      "Topic #4: cdnpoli   bcpoli   blockades   kahnawake   tyendinaga   thread   trudeau   government   onpoli   read   cbcalerts   media   ads   rail   companies   sure   want   aboriginal   oil   canpoli   stop   work   reconciliation   denouncing   funded   facebook   linked   deal   groups   canadians\n",
      "\n",
      "Topic #5: rcmp   coastal   gaslink   solicitor   general   farnworth   authorized   mike   resources   redeploying   injunction   response   cgl   ubcic   territory   authorizing   release   ndp   deployment   bccla   force   revealing   explosive   massive   letter   demand   coastalgaslink   resignation   ecosocialists   mikefarnworthbc\n",
      "\n",
      "Topic #6: people   want   says   chief   government   don   know   deal   just   carolyn_bennett   ceded   govern   authority   moral   literally   time   scottfraserndp   like   say   woos   amp   ll   way   going   turn   consent   jjhorgan   think   th   trudeau\n",
      "\n",
      "Topic #7: land   defenders   rights   title   support   good   protectors   evening   walk   activists   water   power   unceded   reached   concerns   students   sovereignty   arrangement   shut   sparked   right   trudeau   respect   armchair   regarding   stolen   issues   peeps   draft   justice\n",
      "\n",
      "\n"
     ]
    }
   ],
   "source": [
    "print_top_words(nmf, n_grams, 30)"
   ]
  },
  {
   "cell_type": "code",
   "execution_count": 49,
   "metadata": {},
   "outputs": [],
   "source": [
    "lda = LatentDirichletAllocation(n_components=N_TOPICS, \n",
    "                                learning_method='online')"
   ]
  },
  {
   "cell_type": "code",
   "execution_count": 50,
   "metadata": {},
   "outputs": [],
   "source": [
    "L = lda.fit_transform(counts)"
   ]
  },
  {
   "cell_type": "code",
   "execution_count": 51,
   "metadata": {},
   "outputs": [
    {
     "name": "stdout",
     "output_type": "stream",
     "text": [
      "Topic #0: agreement   amp   gov   tentative   pressure   deal   proposed   coastal   gaslink   gas   don   says   know   ministers   th   title   rights   government   people   news   land   federal   peoples   reached   consent   world   issue   dispute   reach   doesn\n",
      "\n",
      "Topic #1: canadian   blockades   support   people   government   like   rail   amp   way   blockade   youth   legislature   right   new   work   solidarity   iy4wetsuweten   white   oil   today   did   nation   week   leaders   protests   know   truth   saying   just   big\n",
      "\n",
      "Topic #2: cdnpoli   rcmp   bcpoli   trudeau   amp   reconciliation   minister   unistoten   actions   live   general   scottfraserndp   talks   breaking   ndp   solicitor   say   press   injunction   release   conference   set   fraser   cgl   injunctions   law   iy4wetsuweten   meeting   justin   pm\n",
      "\n",
      "Topic #3: nations   need   march   don   really   toronto   got   sure   lands   lot   industry   leader   better   amp   didn   doing   liberal   racism   supporting   come   point   join   2020   old   party   climatejustice   group   coming   red   fossil\n",
      "\n",
      "Topic #4: territory   ve   going   gidimten   police   oil   mining   make   video   alberta   economy   ctvnews   cn   island   authority   report   unistotencamp   happened   mr   speak   protesters   turtle   away   wait   conservatives   shows   youtube   thing   moral   check\n",
      "\n",
      "Topic #5: justintrudeau   hey   solidarity   calling   today   jjhorgan   time   giving   000   students   millions   mary_ng   exportdevcanada   34   just   stop   rights   let   people   protest   colonial   youth   day   thread   years   happening   respect   landback   isn   student\n",
      "\n",
      "Topic #6: coastalgaslink   reject   good   stand   said   great   look   blockades   lng   globalbc   question   protests   bcrcmp   elected   led   just   band   rally   getting   fight   project   court   environment   coronavirus   struggle   horgan   political   land   true   use\n",
      "\n",
      "Topic #7: land   people   want   defenders   solidarity   kahnawake   carolyn_bennett   chief   support   standing   woos   read   statement   tyendinaga   mohawk   called   thanks   activists   canadians   majority   crisis   talking   interview   help   just   thread   sign   alec   podcast   frank\n",
      "\n",
      "\n"
     ]
    }
   ],
   "source": [
    "print_top_words(lda, raw_n_grams, 30)"
   ]
  },
  {
   "cell_type": "code",
   "execution_count": null,
   "metadata": {},
   "outputs": [],
   "source": []
  }
 ],
 "metadata": {
  "kernelspec": {
   "display_name": "Python 3",
   "language": "python",
   "name": "python3"
  },
  "language_info": {
   "codemirror_mode": {
    "name": "ipython",
    "version": 3
   },
   "file_extension": ".py",
   "mimetype": "text/x-python",
   "name": "python",
   "nbconvert_exporter": "python",
   "pygments_lexer": "ipython3",
   "version": "3.7.4"
  }
 },
 "nbformat": 4,
 "nbformat_minor": 4
}
