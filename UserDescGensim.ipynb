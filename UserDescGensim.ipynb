{
 "cells": [
  {
   "cell_type": "code",
   "execution_count": 1,
   "metadata": {},
   "outputs": [],
   "source": [
    "import re\n",
    "from collections import defaultdict\n",
    "from pprint import pprint\n",
    "from decouple import config\n",
    "from pymongo import MongoClient\n",
    "import numpy as np\n",
    "import pandas as pd\n",
    "import sklearn\n",
    "import gensim\n",
    "import pyLDAvis"
   ]
  },
  {
   "cell_type": "code",
   "execution_count": 21,
   "metadata": {},
   "outputs": [],
   "source": [
    "# Tutorial: https://radimrehurek.com/gensim/auto_examples/core/run_corpora_and_vector_spaces.html#sphx-glr-auto-examples-core-run-corpora-and-vector-spaces-py\n",
    "\n",
    "from sklearn.feature_extraction.text import ENGLISH_STOP_WORDS\n",
    "from gensim import corpora\n",
    "from gensim import models\n",
    "from gensim.parsing.preprocessing import preprocess_string, strip_punctuation, remove_stopwords\n",
    "\n",
    "from pyLDAvis import gensim"
   ]
  },
  {
   "cell_type": "code",
   "execution_count": 3,
   "metadata": {},
   "outputs": [],
   "source": [
    "connection_string = config('MONGO_CONNECTION_STRING')\n",
    "client = MongoClient(connection_string)\n",
    "db = client.db\n",
    "coll = db['twitter']"
   ]
  },
  {
   "cell_type": "code",
   "execution_count": 4,
   "metadata": {},
   "outputs": [],
   "source": [
    "pipeline = [\n",
    "    {\n",
    "        \"$project\": {\n",
    "            \"_id\": 0,\n",
    "            \"uid\": \"$user.id\",\n",
    "            \"user\": \"$user.name\",\n",
    "            \"screen_name\": \"$user.screen_name\",\n",
    "            \"user_desc\": \"$user.description\",\n",
    "            \"verified\": \"$user.verified\",\n",
    "            \"followers\": \"$user.followers_count\"\n",
    "        }\n",
    "    },\n",
    "    {\n",
    "        \"$sort\": {\n",
    "            \"user\": 1\n",
    "        }\n",
    "    }\n",
    "]"
   ]
  },
  {
   "cell_type": "code",
   "execution_count": 5,
   "metadata": {},
   "outputs": [
    {
     "data": {
      "text/html": [
       "<div>\n",
       "<style scoped>\n",
       "    .dataframe tbody tr th:only-of-type {\n",
       "        vertical-align: middle;\n",
       "    }\n",
       "\n",
       "    .dataframe tbody tr th {\n",
       "        vertical-align: top;\n",
       "    }\n",
       "\n",
       "    .dataframe thead th {\n",
       "        text-align: right;\n",
       "    }\n",
       "</style>\n",
       "<table border=\"1\" class=\"dataframe\">\n",
       "  <thead>\n",
       "    <tr style=\"text-align: right;\">\n",
       "      <th></th>\n",
       "      <th>uid</th>\n",
       "      <th>user</th>\n",
       "      <th>screen_name</th>\n",
       "      <th>user_desc</th>\n",
       "      <th>verified</th>\n",
       "      <th>followers</th>\n",
       "    </tr>\n",
       "  </thead>\n",
       "  <tbody>\n",
       "    <tr>\n",
       "      <th>0</th>\n",
       "      <td>807034969902252032</td>\n",
       "      <td>\"MRH_1984\" 🇨🇦</td>\n",
       "      <td>MRH_1984</td>\n",
       "      <td>🇨🇦 Not Politically Correct. Libtards=Mute/Bloc...</td>\n",
       "      <td>False</td>\n",
       "      <td>2480</td>\n",
       "    </tr>\n",
       "    <tr>\n",
       "      <th>1</th>\n",
       "      <td>942083635808792576</td>\n",
       "      <td>#AnitasAffordableBookstore</td>\n",
       "      <td>AABookstore</td>\n",
       "      <td>https://t.co/ATupVUkbR4… Amazon https://t.co/m...</td>\n",
       "      <td>False</td>\n",
       "      <td>529</td>\n",
       "    </tr>\n",
       "    <tr>\n",
       "      <th>13</th>\n",
       "      <td>1207754603673972736</td>\n",
       "      <td>#BCPoliTalk</td>\n",
       "      <td>bcpolitalk</td>\n",
       "      <td>We talk politics in British Columbia. Hosted b...</td>\n",
       "      <td>False</td>\n",
       "      <td>206</td>\n",
       "    </tr>\n",
       "    <tr>\n",
       "      <th>15</th>\n",
       "      <td>2518034430</td>\n",
       "      <td>#FreeChelseaManning &amp; #PrayForAmazonas</td>\n",
       "      <td>JJacobMarion</td>\n",
       "      <td>Aging, pseudo-intellectual twink with abandonm...</td>\n",
       "      <td>False</td>\n",
       "      <td>163</td>\n",
       "    </tr>\n",
       "    <tr>\n",
       "      <th>16</th>\n",
       "      <td>38458897</td>\n",
       "      <td>#IndianStatus531</td>\n",
       "      <td>BlueCedarAngel</td>\n",
       "      <td>Gitxsan Nation; FireWeed tribe; House of Woo's...</td>\n",
       "      <td>False</td>\n",
       "      <td>1228</td>\n",
       "    </tr>\n",
       "  </tbody>\n",
       "</table>\n",
       "</div>"
      ],
      "text/plain": [
       "                    uid                                    user  \\\n",
       "0    807034969902252032                           \"MRH_1984\" 🇨🇦   \n",
       "1    942083635808792576              #AnitasAffordableBookstore   \n",
       "13  1207754603673972736                             #BCPoliTalk   \n",
       "15           2518034430  #FreeChelseaManning & #PrayForAmazonas   \n",
       "16             38458897                        #IndianStatus531   \n",
       "\n",
       "       screen_name                                          user_desc  \\\n",
       "0         MRH_1984  🇨🇦 Not Politically Correct. Libtards=Mute/Bloc...   \n",
       "1      AABookstore  https://t.co/ATupVUkbR4… Amazon https://t.co/m...   \n",
       "13      bcpolitalk  We talk politics in British Columbia. Hosted b...   \n",
       "15    JJacobMarion  Aging, pseudo-intellectual twink with abandonm...   \n",
       "16  BlueCedarAngel  Gitxsan Nation; FireWeed tribe; House of Woo's...   \n",
       "\n",
       "    verified  followers  \n",
       "0      False       2480  \n",
       "1      False        529  \n",
       "13     False        206  \n",
       "15     False        163  \n",
       "16     False       1228  "
      ]
     },
     "execution_count": 5,
     "metadata": {},
     "output_type": "execute_result"
    }
   ],
   "source": [
    "df = pd.DataFrame.from_dict(list(coll.aggregate(pipeline)))\n",
    "df.drop_duplicates(subset=['uid'], keep='first', inplace=True)\n",
    "df.head()"
   ]
  },
  {
   "cell_type": "code",
   "execution_count": 6,
   "metadata": {},
   "outputs": [],
   "source": [
    "docs = list(df['user_desc'])"
   ]
  },
  {
   "cell_type": "code",
   "execution_count": 7,
   "metadata": {},
   "outputs": [
    {
     "name": "stderr",
     "output_type": "stream",
     "text": [
      "<>:2: DeprecationWarning: invalid escape sequence \\s\n",
      "<>:2: DeprecationWarning: invalid escape sequence \\s\n",
      "<>:2: DeprecationWarning: invalid escape sequence \\s\n",
      "<ipython-input-7-4d8c883e427e>:2: DeprecationWarning: invalid escape sequence \\s\n",
      "  url_pattern = re.compile(\"http[^\\s]+\", re.I)\n"
     ]
    }
   ],
   "source": [
    "# Remove URL junk\n",
    "url_pattern = re.compile(\"http[^\\s]+\", re.I)"
   ]
  },
  {
   "cell_type": "code",
   "execution_count": 8,
   "metadata": {},
   "outputs": [
    {
     "name": "stderr",
     "output_type": "stream",
     "text": [
      "<>:2: DeprecationWarning: invalid escape sequence \\s\n",
      "<>:2: DeprecationWarning: invalid escape sequence \\s\n",
      "<>:2: DeprecationWarning: invalid escape sequence \\s\n",
      "<ipython-input-8-27a9a221192e>:2: DeprecationWarning: invalid escape sequence \\s\n",
      "  non_ascii_pattern = re.compile(\"[^\\s\\u0040-\\u007A]\")\n"
     ]
    }
   ],
   "source": [
    "# More restrictive punctuation match\n",
    "non_ascii_pattern = re.compile(\"[^\\s\\u0040-\\u007A]\")"
   ]
  },
  {
   "cell_type": "code",
   "execution_count": 9,
   "metadata": {},
   "outputs": [],
   "source": [
    "# preprocess_filters = [lambda x: x.lower(), strip_punctuation, remove_stopwords]"
   ]
  },
  {
   "cell_type": "code",
   "execution_count": 10,
   "metadata": {},
   "outputs": [],
   "source": [
    "for i in range(len(docs)):\n",
    "    docs[i] = str(docs[i]).lower()\n",
    "    docs[i] = url_pattern.sub('', docs[i])\n",
    "    docs[i] = non_ascii_pattern.sub('', docs[i])"
   ]
  },
  {
   "cell_type": "code",
   "execution_count": 11,
   "metadata": {},
   "outputs": [
    {
     "data": {
      "text/plain": [
       "[' not politically correct libtardsmuteblock\\n orwells  is upon us',\n",
       " ' amazon  smashwords  @llewelynpritch   twitter',\n",
       " 'we talk politics in british columbia hosted by @billtieleman and daniel fontaine bcpoli bcpolitalk\\n\\nwere a partnered program of @ctminbc',\n",
       " 'aging pseudointellectual twink with abandonment issues failed youtuber author patrons get my books for free  hehimhis',\n",
       " 'gitxsan nation fireweed tribe house of woosimlaha crest  baby white owls lawsofmatriach\\nhuman in a womans body']"
      ]
     },
     "execution_count": 11,
     "metadata": {},
     "output_type": "execute_result"
    }
   ],
   "source": [
    "docs[:5]"
   ]
  },
  {
   "cell_type": "code",
   "execution_count": null,
   "metadata": {},
   "outputs": [],
   "source": [
    "# add_stop_words = ['wetsuweten', 'wet', 'suwet', 'en',\n",
    "#                   'wetsuwetenstrong', 'wetsuwetensolidarity', 'shutdowncanada',\n",
    "#                   'bc', 'british', 'columbia', 'canada', 'indigenous', 'pipeline',\n",
    "#                   'hereditary', 'chiefs',\n",
    "#                  's', 'd', 'll', 've']\n",
    "\n",
    "# custom_stop_words = set(ENGLISH_STOP_WORDS).union(set(add_stop_words))"
   ]
  },
  {
   "cell_type": "code",
   "execution_count": 12,
   "metadata": {},
   "outputs": [
    {
     "name": "stdout",
     "output_type": "stream",
     "text": [
      "[['politically', 'correct'],\n",
      " ['twitter'],\n",
      " ['talk', 'politics', 'british', 'columbia', 'hosted', 'bcpoli', 'program'],\n",
      " ['issues', 'author', 'books', 'free', 'hehimhis'],\n",
      " ['gitxsan', 'nation', 'house', 'white', 'human']]\n"
     ]
    }
   ],
   "source": [
    "texts = [[word for word in document.split() \n",
    "              if word not in ENGLISH_STOP_WORDS]\n",
    "          for document in docs]\n",
    "\n",
    "# remove words appear infrequently\n",
    "frequency = defaultdict(int)\n",
    "for doc in texts:\n",
    "    for t in doc:\n",
    "        frequency[t] += 1\n",
    "\n",
    "texts = [\n",
    "    [t for t in doc if frequency[t] > 4]\n",
    "    for doc in texts\n",
    "]\n",
    "\n",
    "pprint(texts[:5])"
   ]
  },
  {
   "cell_type": "code",
   "execution_count": 13,
   "metadata": {},
   "outputs": [],
   "source": [
    "dictionary = corpora.Dictionary(texts)\n",
    "dictionary.save('users.dict')"
   ]
  },
  {
   "cell_type": "code",
   "execution_count": 14,
   "metadata": {},
   "outputs": [],
   "source": [
    "corpus = [dictionary.doc2bow(text) for text in texts] # bag-of-words\n",
    "corpora.MmCorpus.serialize('user_corpus.mm', corpus) # Matrix Market format"
   ]
  },
  {
   "cell_type": "code",
   "execution_count": null,
   "metadata": {},
   "outputs": [],
   "source": [
    "tfidf = models.TfidfModel(corpus)"
   ]
  },
  {
   "cell_type": "code",
   "execution_count": null,
   "metadata": {},
   "outputs": [],
   "source": [
    "corpus_tfidf = tfidf[corpus]"
   ]
  },
  {
   "cell_type": "code",
   "execution_count": null,
   "metadata": {},
   "outputs": [],
   "source": [
    "for i in range(2):\n",
    "    print(corpus_tfidf[i])"
   ]
  },
  {
   "cell_type": "code",
   "execution_count": null,
   "metadata": {},
   "outputs": [],
   "source": [
    "# Find optimal number of topics\n",
    "for n in range(2,11):\n",
    "    print(\"%d topics\" % n)\n",
    "    lda_compare = models.LdaModel(corpus, id2word=dictionary, num_topics=n)\n",
    "    cm = models.CoherenceModel(model=lda_compare, corpus=corpus, texts=texts)\n",
    "    print(cm.get_coherence())\n",
    "    print()"
   ]
  },
  {
   "cell_type": "code",
   "execution_count": 15,
   "metadata": {},
   "outputs": [],
   "source": [
    "NUM_TOPICS = 10"
   ]
  },
  {
   "cell_type": "code",
   "execution_count": 16,
   "metadata": {},
   "outputs": [],
   "source": [
    "# https://radimrehurek.com/gensim/models/ldamodel.html#usage-examples\n",
    "lda = models.LdaModel(corpus, id2word=dictionary, num_topics=NUM_TOPICS)"
   ]
  },
  {
   "cell_type": "code",
   "execution_count": 17,
   "metadata": {},
   "outputs": [
    {
     "data": {
      "text/plain": [
       "[([(0.03395843, 'justice'),\n",
       "   (0.033756755, 'social'),\n",
       "   (0.020900713, 'canada'),\n",
       "   (0.011132948, 'love'),\n",
       "   (0.00959508, 'indigenous'),\n",
       "   (0.009364389, 'canadian'),\n",
       "   (0.008480331, 'environmental'),\n",
       "   (0.008373523, 'working'),\n",
       "   (0.008373392, 'political'),\n",
       "   (0.0074535217, 'climate'),\n",
       "   (0.0074530914, 'work'),\n",
       "   (0.0074529108, 'activist'),\n",
       "   (0.0069958176, 'writer'),\n",
       "   (0.006763515, 'public'),\n",
       "   (0.0065330574, 'british'),\n",
       "   (0.006532996, 'pm'),\n",
       "   (0.006532724, 'science'),\n",
       "   (0.0060505704, 'global'),\n",
       "   (0.0056589814, 'issues'),\n",
       "   (0.0056130816, 'policy')],\n",
       "  -8.087980900644935),\n",
       " ([(0.02939238, 'climate'),\n",
       "   (0.012592556, 'student'),\n",
       "   (0.012153367, 'people'),\n",
       "   (0.01215283, 'change'),\n",
       "   (0.011698941, 'world'),\n",
       "   (0.011291542, 'new'),\n",
       "   (0.009567473, 'activist'),\n",
       "   (0.0095671, 'tweets'),\n",
       "   (0.008705674, 'university'),\n",
       "   (0.008705639, 'father'),\n",
       "   (0.008705631, 'environmental'),\n",
       "   (0.008705495, 'mom'),\n",
       "   (0.008705338, 'writer'),\n",
       "   (0.008300925, 'justice'),\n",
       "   (0.007871541, 'opinions'),\n",
       "   (0.0078436555, 'science'),\n",
       "   (0.007447853, 'account'),\n",
       "   (0.0069818664, 'canada'),\n",
       "   (0.006981679, 'indigenous'),\n",
       "   (0.006981379, 'love')],\n",
       "  -8.804129152499454),\n",
       " ([(0.026412342, 'news'),\n",
       "   (0.014445871, 'support'),\n",
       "   (0.0134207215, 'people'),\n",
       "   (0.0123967165, 'free'),\n",
       "   (0.012396258, 'canada'),\n",
       "   (0.0113721555, 'independent'),\n",
       "   (0.010347658, 'politics'),\n",
       "   (0.010347449, 'sheher'),\n",
       "   (0.010347294, 'bc'),\n",
       "   (0.0082986085, 'working'),\n",
       "   (0.008298528, 'nations'),\n",
       "   (0.0074498206, 'media'),\n",
       "   (0.0072744065, 'climate'),\n",
       "   (0.007273937, 'breaking'),\n",
       "   (0.0072738635, 'community'),\n",
       "   (0.0072737737, 'tweets'),\n",
       "   (0.007273654, 'la'),\n",
       "   (0.0072734803, 'canadian'),\n",
       "   (0.0064421836, 'justice'),\n",
       "   (0.0062496555, 'national')],\n",
       "  -10.348792494057246),\n",
       " ([(0.021552794, 'news'),\n",
       "   (0.012775637, 'world'),\n",
       "   (0.012775489, 'journalist'),\n",
       "   (0.011054783, 'justice'),\n",
       "   (0.010825486, 'indigenous'),\n",
       "   (0.010825377, 'better'),\n",
       "   (0.010825009, 'stories'),\n",
       "   (0.009849985, 'people'),\n",
       "   (0.008874728, 'good'),\n",
       "   (0.008874314, 'hehim'),\n",
       "   (0.007989491, 'canadian'),\n",
       "   (0.00789921, 'twitter'),\n",
       "   (0.00789919, 'follow'),\n",
       "   (0.007899065, 'climate'),\n",
       "   (0.0073713805, 'account'),\n",
       "   (0.0069240844, 'reporter'),\n",
       "   (0.0069240094, 'director'),\n",
       "   (0.0069239065, 'bc'),\n",
       "   (0.0065218885, 'proud'),\n",
       "   (0.005949081, 'opinions')],\n",
       "  -11.17477045595402),\n",
       " ([(0.017068155, 'sheher'),\n",
       "   (0.011503633, 'canada'),\n",
       "   (0.011503534, 'tweets'),\n",
       "   (0.010552934, 'political'),\n",
       "   (0.010552663, 'live'),\n",
       "   (0.010552317, 'toronto'),\n",
       "   (0.010022453, 'writer'),\n",
       "   (0.009490026, 'social'),\n",
       "   (0.008650384, 'theythem'),\n",
       "   (0.008452138, 'indigenous'),\n",
       "   (0.0077007916, 'canadian'),\n",
       "   (0.007700575, 'life'),\n",
       "   (0.0077005485, 'pm'),\n",
       "   (0.007700402, 'affairs'),\n",
       "   (0.006750082, 'make'),\n",
       "   (0.006749923, 'based'),\n",
       "   (0.006749923, 'journalist'),\n",
       "   (0.0067498134, 'cdnpoli'),\n",
       "   (0.006749746, 'current'),\n",
       "   (0.0067495774, 'born')],\n",
       "  -11.212097784827234),\n",
       " ([(0.028383857, 'indigenous'),\n",
       "   (0.014850009, 'news'),\n",
       "   (0.011720478, 'sheher'),\n",
       "   (0.010962695, 'settler'),\n",
       "   (0.009407311, 'canadian'),\n",
       "   (0.009037015, 'artist'),\n",
       "   (0.008261457, 'world'),\n",
       "   (0.008138774, 'im'),\n",
       "   (0.00785296, 'research'),\n",
       "   (0.007852402, 'good'),\n",
       "   (0.0078523755, 'time'),\n",
       "   (0.007852324, 'bc'),\n",
       "   (0.0075820195, 'lover'),\n",
       "   (0.007173185, 'justice'),\n",
       "   (0.007075043, 'political'),\n",
       "   (0.0070748567, 'law'),\n",
       "   (0.007071693, 'rights'),\n",
       "   (0.006474621, 'endorsements'),\n",
       "   (0.00629763, 'canadas'),\n",
       "   (0.006297449, 'climate')],\n",
       "  -11.762982769691662),\n",
       " ([(0.02102975, 'opinions'),\n",
       "   (0.013304573, 'sheher'),\n",
       "   (0.011886149, 'politics'),\n",
       "   (0.010461706, 'action'),\n",
       "   (0.010178678, 'author'),\n",
       "   (0.010017202, 'indigenous'),\n",
       "   (0.00927409, 'fighting'),\n",
       "   (0.0091700945, 'justice'),\n",
       "   (0.008426234, 'living'),\n",
       "   (0.007967987, 'people'),\n",
       "   (0.007967685, 'views'),\n",
       "   (0.007967643, 'director'),\n",
       "   (0.007867429, 'research'),\n",
       "   (0.0076778024, 'social'),\n",
       "   (0.0074918396, 'north'),\n",
       "   (0.007223818, 'advocate'),\n",
       "   (0.006661819, 'vancouver'),\n",
       "   (0.006661695, 'services'),\n",
       "   (0.0066613425, 'activist'),\n",
       "   (0.0065405346, 'canadian')],\n",
       "  -12.01894121775257),\n",
       " ([(0.015083873, 'author'),\n",
       "   (0.01278097, 'change'),\n",
       "   (0.012780792, 'city'),\n",
       "   (0.0104784, 'news'),\n",
       "   (0.01047818, 'politics'),\n",
       "   (0.010477898, 'twitter'),\n",
       "   (0.009326585, 'human'),\n",
       "   (0.009326561, 'climate'),\n",
       "   (0.009326297, 'views'),\n",
       "   (0.009326296, 'life'),\n",
       "   (0.008175271, 'political'),\n",
       "   (0.008175047, 'sheher'),\n",
       "   (0.008175013, 'wetsuwetenstrong'),\n",
       "   (0.008174917, 'mp'),\n",
       "   (0.007023847, 'canadians'),\n",
       "   (0.0070236353, 'talk'),\n",
       "   (0.0070236293, 'reporter'),\n",
       "   (0.007023615, 'justice'),\n",
       "   (0.0070236125, 'public'),\n",
       "   (0.007023485, 'father')],\n",
       "  -12.816200014374967),\n",
       " ([(0.031387884, 'news'),\n",
       "   (0.0121971965, 'advocate'),\n",
       "   (0.012197019, 'freedom'),\n",
       "   (0.012196686, 'global'),\n",
       "   (0.00951637, 'canadian'),\n",
       "   (0.008642549, 'justice'),\n",
       "   (0.008467791, 'policy'),\n",
       "   (0.008176071, 'follow'),\n",
       "   (0.008175933, 'reader'),\n",
       "   (0.007135309, 'nations'),\n",
       "   (0.006835811, 'history'),\n",
       "   (0.0068357554, 'advocacy'),\n",
       "   (0.006835678, 'rights'),\n",
       "   (0.006835476, 'canada'),\n",
       "   (0.006835392, 'like'),\n",
       "   (0.006835358, 'ontario'),\n",
       "   (0.006835352, 'public'),\n",
       "   (0.006529474, 'media'),\n",
       "   (0.0057690716, 'national'),\n",
       "   (0.005495491, 'earth')],\n",
       "  -12.836927282845686),\n",
       " ([(0.023828637, 'sheher'),\n",
       "   (0.022700012, 'news'),\n",
       "   (0.019941263, 'writer'),\n",
       "   (0.018106606, 'feminist'),\n",
       "   (0.018094946, 'canadian'),\n",
       "   (0.013491998, 'politics'),\n",
       "   (0.01069366, 'author'),\n",
       "   (0.010276894, 'earth'),\n",
       "   (0.009147387, 'activist'),\n",
       "   (0.009147201, 'just'),\n",
       "   (0.008018041, 'antifascist'),\n",
       "   (0.0068890415, 'podcast'),\n",
       "   (0.0068889796, 'business'),\n",
       "   (0.0068889535, 'vancouver'),\n",
       "   (0.006888847, 'online'),\n",
       "   (0.0068887854, 'im'),\n",
       "   (0.006888715, 'stories'),\n",
       "   (0.006888704, 'educator'),\n",
       "   (0.006888574, 'life'),\n",
       "   (0.0068884124, 'enthusiast')],\n",
       "  -13.35314182058692)]"
      ]
     },
     "execution_count": 17,
     "metadata": {},
     "output_type": "execute_result"
    }
   ],
   "source": [
    "lda.top_topics(corpus=corpus, dictionary=dictionary) # [((Probability, word)], coherence score)"
   ]
  },
  {
   "cell_type": "code",
   "execution_count": 18,
   "metadata": {},
   "outputs": [
    {
     "data": {
      "text/plain": [
       "113"
      ]
     },
     "execution_count": 18,
     "metadata": {},
     "output_type": "execute_result"
    }
   ],
   "source": [
    "dictionary.token2id['student']"
   ]
  },
  {
   "cell_type": "code",
   "execution_count": 19,
   "metadata": {},
   "outputs": [
    {
     "data": {
      "text/plain": [
       "[(1, 0.012169319)]"
      ]
     },
     "execution_count": 19,
     "metadata": {},
     "output_type": "execute_result"
    }
   ],
   "source": [
    "lda.get_term_topics(dictionary.token2id['student'])"
   ]
  },
  {
   "cell_type": "code",
   "execution_count": 23,
   "metadata": {},
   "outputs": [
    {
     "name": "stderr",
     "output_type": "stream",
     "text": [
      "c:\\users\\owner\\miniconda3\\lib\\site-packages\\pyLDAvis\\_prepare.py:257: FutureWarning: Sorting because non-concatenation axis is not aligned. A future version\n",
      "of pandas will change to not sort by default.\n",
      "\n",
      "To accept the future behavior, pass 'sort=False'.\n",
      "\n",
      "To retain the current behavior and silence the warning, pass 'sort=True'.\n",
      "\n",
      "  return pd.concat([default_term_info] + list(topic_dfs))\n"
     ]
    }
   ],
   "source": [
    "vis = pyLDAvis.gensim.prepare(lda, corpus, dictionary)"
   ]
  },
  {
   "cell_type": "code",
   "execution_count": 24,
   "metadata": {},
   "outputs": [
    {
     "name": "stdout",
     "output_type": "stream",
     "text": [
      "\n",
      "Note: if you're in the IPython notebook, pyLDAvis.show() is not the best command\n",
      "      to use. Consider using pyLDAvis.display(), or pyLDAvis.enable_notebook().\n",
      "      See more information at http://pyLDAvis.github.io/quickstart.html .\n",
      "\n",
      "You must interrupt the kernel to end this command\n",
      "\n",
      "Serving to http://127.0.0.1:8889/    [Ctrl-C to exit]\n"
     ]
    },
    {
     "name": "stderr",
     "output_type": "stream",
     "text": [
      "127.0.0.1 - - [30/Mar/2020 15:58:46] \"GET / HTTP/1.1\" 200 -\n",
      "127.0.0.1 - - [30/Mar/2020 15:58:46] \"GET /LDAvis.css HTTP/1.1\" 200 -\n",
      "127.0.0.1 - - [30/Mar/2020 15:58:46] \"GET /d3.js HTTP/1.1\" 200 -\n",
      "127.0.0.1 - - [30/Mar/2020 15:58:46] \"GET /LDAvis.js HTTP/1.1\" 200 -\n"
     ]
    },
    {
     "name": "stdout",
     "output_type": "stream",
     "text": [
      "\n",
      "stopping Server...\n"
     ]
    }
   ],
   "source": [
    "pyLDAvis.show(vis)"
   ]
  },
  {
   "cell_type": "code",
   "execution_count": null,
   "metadata": {},
   "outputs": [],
   "source": []
  }
 ],
 "metadata": {
  "kernelspec": {
   "display_name": "Python 3",
   "language": "python",
   "name": "python3"
  },
  "language_info": {
   "codemirror_mode": {
    "name": "ipython",
    "version": 3
   },
   "file_extension": ".py",
   "mimetype": "text/x-python",
   "name": "python",
   "nbconvert_exporter": "python",
   "pygments_lexer": "ipython3",
   "version": "3.7.4"
  }
 },
 "nbformat": 4,
 "nbformat_minor": 4
}
