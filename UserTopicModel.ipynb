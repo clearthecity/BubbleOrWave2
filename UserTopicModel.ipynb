{
 "cells": [
  {
   "cell_type": "code",
   "execution_count": 1,
   "metadata": {},
   "outputs": [],
   "source": [
    "import re\n",
    "from decouple import config\n",
    "from pymongo import MongoClient\n",
    "import numpy as np\n",
    "import pandas as pd\n",
    "import matplotlib.pyplot as plt\n",
    "import sklearn"
   ]
  },
  {
   "cell_type": "code",
   "execution_count": 5,
   "metadata": {},
   "outputs": [],
   "source": [
    "from sklearn.pipeline import Pipeline\n",
    "from sklearn.feature_extraction.text import CountVectorizer\n",
    "from sklearn.feature_extraction.text import TfidfVectorizer\n",
    "from sklearn.decomposition import LatentDirichletAllocation\n",
    "from sklearn.decomposition import NMF # Non-negative matrix factorization\n",
    "from sklearn import metrics"
   ]
  },
  {
   "cell_type": "code",
   "execution_count": 2,
   "metadata": {},
   "outputs": [],
   "source": [
    "connection_string = config('MONGO_CONNECTION_STRING')\n",
    "client = MongoClient(connection_string)\n",
    "db = client.db\n",
    "coll = db['twitter']"
   ]
  },
  {
   "cell_type": "code",
   "execution_count": 3,
   "metadata": {},
   "outputs": [],
   "source": [
    "pipeline = [\n",
    "    {\n",
    "        \"$project\": {\n",
    "            \"_id\": 0,\n",
    "            \"uid\": \"$user.id\",\n",
    "            \"user\": \"$user.name\",\n",
    "            \"screen_name\": \"$user.screen_name\",\n",
    "            \"user_desc\": \"$user.description\",\n",
    "            \"verified\": \"$user.verified\",\n",
    "            \"followers\": \"$user.followers_count\"\n",
    "        }\n",
    "    },\n",
    "    {\n",
    "        \"$sort\": {\n",
    "            \"user\": 1\n",
    "        }\n",
    "    }\n",
    "]\n",
    "# sorting by uid will implicitly filter by date joined"
   ]
  },
  {
   "cell_type": "code",
   "execution_count": 4,
   "metadata": {},
   "outputs": [
    {
     "data": {
      "text/html": [
       "<div>\n",
       "<style scoped>\n",
       "    .dataframe tbody tr th:only-of-type {\n",
       "        vertical-align: middle;\n",
       "    }\n",
       "\n",
       "    .dataframe tbody tr th {\n",
       "        vertical-align: top;\n",
       "    }\n",
       "\n",
       "    .dataframe thead th {\n",
       "        text-align: right;\n",
       "    }\n",
       "</style>\n",
       "<table border=\"1\" class=\"dataframe\">\n",
       "  <thead>\n",
       "    <tr style=\"text-align: right;\">\n",
       "      <th></th>\n",
       "      <th>uid</th>\n",
       "      <th>user</th>\n",
       "      <th>screen_name</th>\n",
       "      <th>user_desc</th>\n",
       "      <th>verified</th>\n",
       "      <th>followers</th>\n",
       "    </tr>\n",
       "  </thead>\n",
       "  <tbody>\n",
       "    <tr>\n",
       "      <th>0</th>\n",
       "      <td>807034969902252032</td>\n",
       "      <td>\"MRH_1984\" 🇨🇦</td>\n",
       "      <td>MRH_1984</td>\n",
       "      <td>🇨🇦 Not Politically Correct. Libtards=Mute/Bloc...</td>\n",
       "      <td>False</td>\n",
       "      <td>2480</td>\n",
       "    </tr>\n",
       "    <tr>\n",
       "      <th>1</th>\n",
       "      <td>942083635808792576</td>\n",
       "      <td>#AnitasAffordableBookstore</td>\n",
       "      <td>AABookstore</td>\n",
       "      <td>https://t.co/ATupVUkbR4… Amazon https://t.co/m...</td>\n",
       "      <td>False</td>\n",
       "      <td>529</td>\n",
       "    </tr>\n",
       "    <tr>\n",
       "      <th>13</th>\n",
       "      <td>1207754603673972736</td>\n",
       "      <td>#BCPoliTalk</td>\n",
       "      <td>bcpolitalk</td>\n",
       "      <td>We talk politics in British Columbia. Hosted b...</td>\n",
       "      <td>False</td>\n",
       "      <td>206</td>\n",
       "    </tr>\n",
       "    <tr>\n",
       "      <th>15</th>\n",
       "      <td>2518034430</td>\n",
       "      <td>#FreeChelseaManning &amp; #PrayForAmazonas</td>\n",
       "      <td>JJacobMarion</td>\n",
       "      <td>Aging, pseudo-intellectual twink with abandonm...</td>\n",
       "      <td>False</td>\n",
       "      <td>163</td>\n",
       "    </tr>\n",
       "    <tr>\n",
       "      <th>16</th>\n",
       "      <td>38458897</td>\n",
       "      <td>#IndianStatus531</td>\n",
       "      <td>BlueCedarAngel</td>\n",
       "      <td>Gitxsan Nation; FireWeed tribe; House of Woo's...</td>\n",
       "      <td>False</td>\n",
       "      <td>1228</td>\n",
       "    </tr>\n",
       "  </tbody>\n",
       "</table>\n",
       "</div>"
      ],
      "text/plain": [
       "                    uid                                    user  \\\n",
       "0    807034969902252032                           \"MRH_1984\" 🇨🇦   \n",
       "1    942083635808792576              #AnitasAffordableBookstore   \n",
       "13  1207754603673972736                             #BCPoliTalk   \n",
       "15           2518034430  #FreeChelseaManning & #PrayForAmazonas   \n",
       "16             38458897                        #IndianStatus531   \n",
       "\n",
       "       screen_name                                          user_desc  \\\n",
       "0         MRH_1984  🇨🇦 Not Politically Correct. Libtards=Mute/Bloc...   \n",
       "1      AABookstore  https://t.co/ATupVUkbR4… Amazon https://t.co/m...   \n",
       "13      bcpolitalk  We talk politics in British Columbia. Hosted b...   \n",
       "15    JJacobMarion  Aging, pseudo-intellectual twink with abandonm...   \n",
       "16  BlueCedarAngel  Gitxsan Nation; FireWeed tribe; House of Woo's...   \n",
       "\n",
       "    verified  followers  \n",
       "0      False       2480  \n",
       "1      False        529  \n",
       "13     False        206  \n",
       "15     False        163  \n",
       "16     False       1228  "
      ]
     },
     "execution_count": 4,
     "metadata": {},
     "output_type": "execute_result"
    }
   ],
   "source": [
    "df = pd.DataFrame.from_dict(list(coll.aggregate(pipeline)))\n",
    "df.drop_duplicates(subset=['uid'], keep='first', inplace=True)\n",
    "df.head()"
   ]
  },
  {
   "cell_type": "code",
   "execution_count": 6,
   "metadata": {},
   "outputs": [],
   "source": [
    "corpus = list(df['user_desc'])"
   ]
  },
  {
   "cell_type": "code",
   "execution_count": 7,
   "metadata": {},
   "outputs": [],
   "source": [
    "# Remove URL junk\n",
    "url_pattern = re.compile(\"http[^\\s]+\", re.I)\n",
    "\n",
    "for i in range(len(corpus)):\n",
    "    corpus[i] = url_pattern.sub('', corpus[i])"
   ]
  },
  {
   "cell_type": "code",
   "execution_count": 8,
   "metadata": {},
   "outputs": [
    {
     "data": {
      "text/plain": [
       "['🇨🇦 Not Politically Correct. Libtards=Mute/Block\\n \"Orwell\\'s 1984 is Upon Us\"....',\n",
       " ' Amazon  Smashwords  @LlewelynPritch   ...Twitter',\n",
       " \"We talk politics in British Columbia. Hosted by @billtieleman and Daniel Fontaine. #bcpoli #BCPoliTalk\\n\\nWe're a Partnered Program of @CTMinBC.\",\n",
       " 'Aging, pseudo-intellectual twink with abandonment issues. Failed Youtuber. Author. Patrons get my books for free! 🏳️\\u200d🌈🇨🇦 (He/Him/His)',\n",
       " \"Gitxsan Nation; FireWeed tribe; House of Woo'sim'la’ha’; Crest 2 baby white owls; #LawsOfMatriach\\nHuman in a woman's body\"]"
      ]
     },
     "execution_count": 8,
     "metadata": {},
     "output_type": "execute_result"
    }
   ],
   "source": [
    "corpus[:5]"
   ]
  },
  {
   "cell_type": "code",
   "execution_count": 9,
   "metadata": {},
   "outputs": [],
   "source": [
    "non_ascii_pattern = re.compile(\"[^\\u0000-\\u2300]\") # source https://stackoverflow.com/questions/2124010/grep-regex-to-match-non-ascii-characters\n",
    "# ellipsis: \"\\u2026\"; currency symbols later\n",
    "\n",
    "for i in range(len(corpus)):\n",
    "    corpus[i] = non_ascii_pattern.sub('', corpus[i])"
   ]
  },
  {
   "cell_type": "code",
   "execution_count": 10,
   "metadata": {},
   "outputs": [],
   "source": [
    "# from tutorial\n",
    "def print_top_words(model, feature_names, n_top_words):\n",
    "    for i, topic in enumerate(model.components_):\n",
    "        message = \"Topic #%d: \" % i\n",
    "        message += \"   \".join([feature_names[i]\n",
    "                             for i in topic.argsort()[:-n_top_words - 1:-1]])\n",
    "        print(message)\n",
    "        print()\n",
    "    print()"
   ]
  },
  {
   "cell_type": "code",
   "execution_count": 11,
   "metadata": {},
   "outputs": [],
   "source": [
    "N_TOPICS = 5"
   ]
  },
  {
   "cell_type": "code",
   "execution_count": 13,
   "metadata": {},
   "outputs": [],
   "source": [
    "# Text frequency*Inverse document frequency matrix\n",
    "# max_df: ignore terms with frequency higher than\n",
    "# lowercase = True by default\n",
    "tf_matrix = TfidfVectorizer(strip_accents='unicode',\n",
    "                          analyzer='word',\n",
    "                          stop_words='english',\n",
    "                          ngram_range=(1,1))\n",
    "M = tf_matrix.fit_transform(corpus)"
   ]
  },
  {
   "cell_type": "code",
   "execution_count": 14,
   "metadata": {},
   "outputs": [
    {
     "name": "stdout",
     "output_type": "stream",
     "text": [
      "TfIdf 1-grams: 7483\n"
     ]
    }
   ],
   "source": [
    "n_grams = tf_matrix.get_feature_names()\n",
    "print(\"TfIdf 1-grams:\", len(n_grams))"
   ]
  },
  {
   "cell_type": "code",
   "execution_count": 15,
   "metadata": {},
   "outputs": [],
   "source": [
    "# Use raw counts (not TfIdf) for LDA\n",
    "count_vect = CountVectorizer(strip_accents='unicode',\n",
    "                             analyzer='word',\n",
    "                             stop_words='english',\n",
    "                             ngram_range=(1,1))\n",
    "counts = count_vect.fit_transform(corpus)"
   ]
  },
  {
   "cell_type": "code",
   "execution_count": 16,
   "metadata": {},
   "outputs": [],
   "source": [
    "raw_n_grams = count_vect.get_feature_names()"
   ]
  },
  {
   "cell_type": "code",
   "execution_count": 17,
   "metadata": {},
   "outputs": [],
   "source": [
    "nmf = NMF(n_components=N_TOPICS, solver='mu')"
   ]
  },
  {
   "cell_type": "code",
   "execution_count": 18,
   "metadata": {},
   "outputs": [],
   "source": [
    "W = nmf.fit_transform(M)"
   ]
  },
  {
   "cell_type": "code",
   "execution_count": 19,
   "metadata": {},
   "outputs": [
    {
     "name": "stdout",
     "output_type": "stream",
     "text": [
      "Topic #0: justice   climate   social   environmental   activist   rights   advocate   change   writer   human   anti   director   settler   community   organizer   love   work   people   world   views   earth   based   environment   author   music   student   energy   fighting   policy   sovereignty\n",
      "\n",
      "Topic #1: news   breaking   source   analysis   cbc   ca   vancouver   canada   ctv   stories   online   national   radio   local   city   reporter   account   politics   toronto   official   follow   latest   calgary   story   information   global   sports   email   world   cbcnews\n",
      "\n",
      "Topic #2: canadian   proud   canada   political   mom   father   conservative   opinions   politics   wife   commentary   public   endorsements   husband   guy   junkie   party   hoser   canuck   fan   policy   life   media   time   bc   country   science   lover   member   cdnpoli\n",
      "\n",
      "Topic #3: indigenous   people   relations   settler   issues   canada   resistance   student   island   territory   independent   journalist   support   treaty   learn   turtle   media   decolonization   artist   nations   studies   peoples   history   patron   ally   educator   photographer   minister   maker   hall\n",
      "\n",
      "Topic #4: en   wet   suwet   solidarity   wetsuwetenstrong   landback   youth   reconciliationisdead   uk   group   nations   delegation   frontline   standing   independent   woman   hereditary   stand   scorpio   collective   land   defender   people   change   clan   acting   chiefs   know   indigiqueer   fireweed\n",
      "\n",
      "\n"
     ]
    }
   ],
   "source": [
    "print_top_words(nmf, n_grams, 30)"
   ]
  },
  {
   "cell_type": "code",
   "execution_count": 35,
   "metadata": {},
   "outputs": [],
   "source": [
    "# Higher score, lower perplexity best https://cfss.uchicago.edu/notes/topic-modeling/#perplexity\n",
    "components = [3,5,7]\n",
    "decays = [0.5, 0.7, 0.9]\n",
    "learning_offsets = [3,6,10]"
   ]
  },
  {
   "cell_type": "code",
   "execution_count": 36,
   "metadata": {},
   "outputs": [
    {
     "name": "stdout",
     "output_type": "stream",
     "text": [
      "Topics: 3\tDecay: 0.500000\tOffset: 3.000000\n",
      "Score: -167379\n",
      "Perplexity: 6219\n",
      "\n",
      "Topics: 3\tDecay: 0.500000\tOffset: 6.000000\n",
      "Score: -167379\n",
      "Perplexity: 6219\n",
      "\n",
      "Topics: 3\tDecay: 0.500000\tOffset: 10.000000\n",
      "Score: -167379\n",
      "Perplexity: 6219\n",
      "\n",
      "Topics: 3\tDecay: 0.700000\tOffset: 3.000000\n",
      "Score: -166772\n",
      "Perplexity: 6025\n",
      "\n",
      "Topics: 3\tDecay: 0.700000\tOffset: 6.000000\n",
      "Score: -166772\n",
      "Perplexity: 6025\n",
      "\n",
      "Topics: 3\tDecay: 0.700000\tOffset: 10.000000\n",
      "Score: -166772\n",
      "Perplexity: 6025\n",
      "\n",
      "Topics: 3\tDecay: 0.900000\tOffset: 3.000000\n",
      "Score: -166738\n",
      "Perplexity: 6014\n",
      "\n",
      "Topics: 3\tDecay: 0.900000\tOffset: 6.000000\n",
      "Score: -166738\n",
      "Perplexity: 6014\n",
      "\n",
      "Topics: 3\tDecay: 0.900000\tOffset: 10.000000\n",
      "Score: -166738\n",
      "Perplexity: 6014\n",
      "\n",
      "Topics: 5\tDecay: 0.500000\tOffset: 3.000000\n",
      "Score: -170588\n",
      "Perplexity: 7353\n",
      "\n",
      "Topics: 5\tDecay: 0.500000\tOffset: 6.000000\n",
      "Score: -170588\n",
      "Perplexity: 7353\n",
      "\n",
      "Topics: 5\tDecay: 0.500000\tOffset: 10.000000\n",
      "Score: -170588\n",
      "Perplexity: 7353\n",
      "\n",
      "Topics: 5\tDecay: 0.700000\tOffset: 3.000000\n",
      "Score: -169019\n",
      "Perplexity: 6775\n",
      "\n",
      "Topics: 5\tDecay: 0.700000\tOffset: 6.000000\n",
      "Score: -169019\n",
      "Perplexity: 6775\n",
      "\n",
      "Topics: 5\tDecay: 0.700000\tOffset: 10.000000\n",
      "Score: -169019\n",
      "Perplexity: 6775\n",
      "\n",
      "Topics: 5\tDecay: 0.900000\tOffset: 3.000000\n",
      "Score: -168676\n",
      "Perplexity: 6654\n",
      "\n",
      "Topics: 5\tDecay: 0.900000\tOffset: 6.000000\n",
      "Score: -168676\n",
      "Perplexity: 6654\n",
      "\n",
      "Topics: 5\tDecay: 0.900000\tOffset: 10.000000\n",
      "Score: -168676\n",
      "Perplexity: 6654\n",
      "\n",
      "Topics: 7\tDecay: 0.500000\tOffset: 3.000000\n",
      "Score: -172530\n",
      "Perplexity: 8137\n",
      "\n",
      "Topics: 7\tDecay: 0.500000\tOffset: 6.000000\n",
      "Score: -172530\n",
      "Perplexity: 8137\n",
      "\n",
      "Topics: 7\tDecay: 0.500000\tOffset: 10.000000\n",
      "Score: -172530\n",
      "Perplexity: 8137\n",
      "\n",
      "Topics: 7\tDecay: 0.700000\tOffset: 3.000000\n",
      "Score: -170593\n",
      "Perplexity: 7355\n",
      "\n",
      "Topics: 7\tDecay: 0.700000\tOffset: 6.000000\n",
      "Score: -170593\n",
      "Perplexity: 7355\n",
      "\n",
      "Topics: 7\tDecay: 0.700000\tOffset: 10.000000\n",
      "Score: -170593\n",
      "Perplexity: 7355\n",
      "\n",
      "Topics: 7\tDecay: 0.900000\tOffset: 3.000000\n",
      "Score: -170133\n",
      "Perplexity: 7180\n",
      "\n",
      "Topics: 7\tDecay: 0.900000\tOffset: 6.000000\n",
      "Score: -170133\n",
      "Perplexity: 7180\n",
      "\n",
      "Topics: 7\tDecay: 0.900000\tOffset: 10.000000\n",
      "Score: -170133\n",
      "Perplexity: 7180\n",
      "\n"
     ]
    }
   ],
   "source": [
    "for c in components:\n",
    "    for d in decays:\n",
    "        for lo in learning_offsets:\n",
    "            print(\"Topics: %d\\tDecay: %f\\tOffset: %f\" % (c, d, lo))\n",
    "            lda = LatentDirichletAllocation(n_components=c,\n",
    "                                            learning_decay=d,\n",
    "                                            learning_method='online',\n",
    "                                            random_state=0)\n",
    "            L = lda.fit_transform(counts)\n",
    "            print(\"Score: %d\" % lda.score(counts))\n",
    "            print(\"Perplexity: %d\" % lda.perplexity(counts))\n",
    "            print()"
   ]
  },
  {
   "cell_type": "code",
   "execution_count": 37,
   "metadata": {},
   "outputs": [],
   "source": [
    "lda = LatentDirichletAllocation(n_components=3,\n",
    "                                learning_decay=0.7,\n",
    "                                learning_offset=10,\n",
    "                                learning_method='online')"
   ]
  },
  {
   "cell_type": "code",
   "execution_count": 38,
   "metadata": {},
   "outputs": [],
   "source": [
    "L = lda.fit_transform(counts)"
   ]
  },
  {
   "cell_type": "code",
   "execution_count": 40,
   "metadata": {},
   "outputs": [
    {
     "name": "stdout",
     "output_type": "stream",
     "text": [
      "Topic #0: tweets   author   writer   university   like   live   bc   editor   life   teacher   research   father   poet   nation   things   prof   people   host   award   canadian   husband   junkie   retired   mother   british   consultant   working   proud   founder   chair   pronouns   member   matter   issues   views   freelance   lover   community   politics   metis\n",
      "\n",
      "Topic #1: justice   climate   indigenous   social   activist   anti   love   rights   settler   environmental   canadian   people   feminist   student   proud   human   mom   advocate   writer   political   work   opinions   music   lover   make   good   world   change   canada   based   earth   public   non   health   policy   art   politics   artist   law   science\n",
      "\n",
      "Topic #2: news   canada   media   com   reporter   world   stories   canadian   global   new   et   ca   politics   follow   independent   wetsuwetenstrong   cbc   en   free   truth   journalist   indigenous   account   email   gmail   online   ontario   toronto   opinions   people   breaking   local   progressive   cdnpoli   vancouver   political   nations   current   block   official\n",
      "\n",
      "\n"
     ]
    }
   ],
   "source": [
    "print_top_words(lda, raw_n_grams, 40)"
   ]
  },
  {
   "cell_type": "code",
   "execution_count": 41,
   "metadata": {},
   "outputs": [
    {
     "data": {
      "text/plain": [
       "5939.292145553858"
      ]
     },
     "execution_count": 41,
     "metadata": {},
     "output_type": "execute_result"
    }
   ],
   "source": [
    "lda.perplexity(counts)"
   ]
  },
  {
   "cell_type": "code",
   "execution_count": null,
   "metadata": {},
   "outputs": [],
   "source": []
  }
 ],
 "metadata": {
  "kernelspec": {
   "display_name": "Python 3",
   "language": "python",
   "name": "python3"
  },
  "language_info": {
   "codemirror_mode": {
    "name": "ipython",
    "version": 3
   },
   "file_extension": ".py",
   "mimetype": "text/x-python",
   "name": "python",
   "nbconvert_exporter": "python",
   "pygments_lexer": "ipython3",
   "version": "3.7.4"
  }
 },
 "nbformat": 4,
 "nbformat_minor": 4
}
