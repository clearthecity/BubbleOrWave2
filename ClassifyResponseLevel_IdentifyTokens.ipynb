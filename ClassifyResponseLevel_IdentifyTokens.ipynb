{
 "cells": [
  {
   "cell_type": "code",
   "execution_count": 27,
   "metadata": {},
   "outputs": [],
   "source": [
    "import re\n",
    "import pandas as pd"
   ]
  },
  {
   "cell_type": "code",
   "execution_count": 5,
   "metadata": {},
   "outputs": [],
   "source": [
    "pd.set_option(\"display.max_colwidth\", 150)"
   ]
  },
  {
   "cell_type": "code",
   "execution_count": 2,
   "metadata": {},
   "outputs": [
    {
     "data": {
      "text/html": [
       "<div>\n",
       "<style scoped>\n",
       "    .dataframe tbody tr th:only-of-type {\n",
       "        vertical-align: middle;\n",
       "    }\n",
       "\n",
       "    .dataframe tbody tr th {\n",
       "        vertical-align: top;\n",
       "    }\n",
       "\n",
       "    .dataframe thead th {\n",
       "        text-align: right;\n",
       "    }\n",
       "</style>\n",
       "<table border=\"1\" class=\"dataframe\">\n",
       "  <thead>\n",
       "    <tr style=\"text-align: right;\">\n",
       "      <th></th>\n",
       "      <th>text</th>\n",
       "      <th>retweet_count</th>\n",
       "      <th>favorite_count</th>\n",
       "      <th>username</th>\n",
       "      <th>userdesc</th>\n",
       "      <th>verified</th>\n",
       "      <th>followers</th>\n",
       "      <th>created_at</th>\n",
       "      <th>has_urls</th>\n",
       "      <th>has_mentions</th>\n",
       "      <th>high_response</th>\n",
       "    </tr>\n",
       "  </thead>\n",
       "  <tbody>\n",
       "    <tr>\n",
       "      <th>0</th>\n",
       "      <td>They are starting to get more and more despera...</td>\n",
       "      <td>24298</td>\n",
       "      <td>168648</td>\n",
       "      <td>GretaThunberg</td>\n",
       "      <td>17 year old climate and environmental activist...</td>\n",
       "      <td>True</td>\n",
       "      <td>4079169</td>\n",
       "      <td>2020-02-29 15:26:10</td>\n",
       "      <td>True</td>\n",
       "      <td>False</td>\n",
       "      <td>True</td>\n",
       "    </tr>\n",
       "    <tr>\n",
       "      <th>1</th>\n",
       "      <td>I do not believe we will defeat Donald Trump w...</td>\n",
       "      <td>18592</td>\n",
       "      <td>77895</td>\n",
       "      <td>BernieSanders</td>\n",
       "      <td>U.S. Senator from Vermont and candidate for Pr...</td>\n",
       "      <td>True</td>\n",
       "      <td>10951634</td>\n",
       "      <td>2020-03-02 20:30:56</td>\n",
       "      <td>False</td>\n",
       "      <td>False</td>\n",
       "      <td>True</td>\n",
       "    </tr>\n",
       "    <tr>\n",
       "      <th>2</th>\n",
       "      <td>Indigenous rights = Climate justice\\n#Wetsuwet...</td>\n",
       "      <td>4609</td>\n",
       "      <td>21488</td>\n",
       "      <td>GretaThunberg</td>\n",
       "      <td>17 year old climate and environmental activist...</td>\n",
       "      <td>True</td>\n",
       "      <td>4086646</td>\n",
       "      <td>2020-02-08 13:36:48</td>\n",
       "      <td>True</td>\n",
       "      <td>False</td>\n",
       "      <td>True</td>\n",
       "    </tr>\n",
       "    <tr>\n",
       "      <th>3</th>\n",
       "      <td>Stop running away from your problem. Run into ...</td>\n",
       "      <td>2739</td>\n",
       "      <td>16317</td>\n",
       "      <td>pulte</td>\n",
       "      <td>The Philanthropist. Inventor of Twitter Philan...</td>\n",
       "      <td>True</td>\n",
       "      <td>2059165</td>\n",
       "      <td>2020-02-29 21:19:22</td>\n",
       "      <td>True</td>\n",
       "      <td>False</td>\n",
       "      <td>True</td>\n",
       "    </tr>\n",
       "    <tr>\n",
       "      <th>4</th>\n",
       "      <td>Support the Wet’suwet’en Nation and the pipeli...</td>\n",
       "      <td>2972</td>\n",
       "      <td>10035</td>\n",
       "      <td>GretaThunberg</td>\n",
       "      <td>17 year old climate and environmental activist...</td>\n",
       "      <td>True</td>\n",
       "      <td>4091979</td>\n",
       "      <td>2020-02-18 10:13:02</td>\n",
       "      <td>True</td>\n",
       "      <td>False</td>\n",
       "      <td>True</td>\n",
       "    </tr>\n",
       "  </tbody>\n",
       "</table>\n",
       "</div>"
      ],
      "text/plain": [
       "                                                text  retweet_count  \\\n",
       "0  They are starting to get more and more despera...          24298   \n",
       "1  I do not believe we will defeat Donald Trump w...          18592   \n",
       "2  Indigenous rights = Climate justice\\n#Wetsuwet...           4609   \n",
       "3  Stop running away from your problem. Run into ...           2739   \n",
       "4  Support the Wet’suwet’en Nation and the pipeli...           2972   \n",
       "\n",
       "   favorite_count       username  \\\n",
       "0          168648  GretaThunberg   \n",
       "1           77895  BernieSanders   \n",
       "2           21488  GretaThunberg   \n",
       "3           16317          pulte   \n",
       "4           10035  GretaThunberg   \n",
       "\n",
       "                                            userdesc  verified  followers  \\\n",
       "0  17 year old climate and environmental activist...      True    4079169   \n",
       "1  U.S. Senator from Vermont and candidate for Pr...      True   10951634   \n",
       "2  17 year old climate and environmental activist...      True    4086646   \n",
       "3  The Philanthropist. Inventor of Twitter Philan...      True    2059165   \n",
       "4  17 year old climate and environmental activist...      True    4091979   \n",
       "\n",
       "            created_at  has_urls  has_mentions  high_response  \n",
       "0  2020-02-29 15:26:10      True         False           True  \n",
       "1  2020-03-02 20:30:56     False         False           True  \n",
       "2  2020-02-08 13:36:48      True         False           True  \n",
       "3  2020-02-29 21:19:22      True         False           True  \n",
       "4  2020-02-18 10:13:02      True         False           True  "
      ]
     },
     "execution_count": 2,
     "metadata": {},
     "output_type": "execute_result"
    }
   ],
   "source": [
    "df = pd.read_csv('aggregation.csv')\n",
    "df.head()"
   ]
  },
  {
   "cell_type": "code",
   "execution_count": 8,
   "metadata": {},
   "outputs": [
    {
     "data": {
      "text/html": [
       "<div>\n",
       "<style scoped>\n",
       "    .dataframe tbody tr th:only-of-type {\n",
       "        vertical-align: middle;\n",
       "    }\n",
       "\n",
       "    .dataframe tbody tr th {\n",
       "        vertical-align: top;\n",
       "    }\n",
       "\n",
       "    .dataframe thead th {\n",
       "        text-align: right;\n",
       "    }\n",
       "</style>\n",
       "<table border=\"1\" class=\"dataframe\">\n",
       "  <thead>\n",
       "    <tr style=\"text-align: right;\">\n",
       "      <th></th>\n",
       "      <th>text</th>\n",
       "      <th>followers</th>\n",
       "      <th>high_response</th>\n",
       "    </tr>\n",
       "  </thead>\n",
       "  <tbody>\n",
       "    <tr>\n",
       "      <th>0</th>\n",
       "      <td>They are starting to get more and more desperate...\\nThis shows that we’re winning. https://t.co/NLOZL331X9</td>\n",
       "      <td>4079169</td>\n",
       "      <td>True</td>\n",
       "    </tr>\n",
       "    <tr>\n",
       "      <th>1</th>\n",
       "      <td>I do not believe we will defeat Donald Trump with a candidate like Joe Biden who supported the Iraq War. https://t.co/8tII7O3Mal</td>\n",
       "      <td>10951634</td>\n",
       "      <td>True</td>\n",
       "    </tr>\n",
       "    <tr>\n",
       "      <th>2</th>\n",
       "      <td>Indigenous rights = Climate justice\\n#WetsuwetenStrong #KeepItInTheGround https://t.co/1kYNumyoQT</td>\n",
       "      <td>4086646</td>\n",
       "      <td>True</td>\n",
       "    </tr>\n",
       "    <tr>\n",
       "      <th>3</th>\n",
       "      <td>Stop running away from your problem. Run into your problem.  It will suck.  Really suck. But, when you pop out the… https://t.co/nAwxydi5Ft</td>\n",
       "      <td>2059165</td>\n",
       "      <td>True</td>\n",
       "    </tr>\n",
       "    <tr>\n",
       "      <th>4</th>\n",
       "      <td>Support the Wet’suwet’en Nation and the pipeline protests happening now in Canada! #WetsuwenStrong  https://t.co/dkNxOzJyUb</td>\n",
       "      <td>4091979</td>\n",
       "      <td>True</td>\n",
       "    </tr>\n",
       "    <tr>\n",
       "      <th>...</th>\n",
       "      <td>...</td>\n",
       "      <td>...</td>\n",
       "      <td>...</td>\n",
       "    </tr>\n",
       "    <tr>\n",
       "      <th>3241</th>\n",
       "      <td>Wet'suwet'en hereditary chiefs reach proposed agreement with provincial and federal governments #Wetsuweten… https://t.co/RtC2DlnxcH</td>\n",
       "      <td>146814</td>\n",
       "      <td>False</td>\n",
       "    </tr>\n",
       "    <tr>\n",
       "      <th>3298</th>\n",
       "      <td>Work to resume on Coastal GasLink pipeline and Victoria’s Redbrick acquires Leadpages are the stories @reporton and… https://t.co/5e4wAMugCH</td>\n",
       "      <td>35973</td>\n",
       "      <td>False</td>\n",
       "    </tr>\n",
       "    <tr>\n",
       "      <th>3404</th>\n",
       "      <td>\"There is a much larger problem here, and hopefully one that federal and provincial governments recognize and addre… https://t.co/wwAJPTI2k8</td>\n",
       "      <td>63310</td>\n",
       "      <td>False</td>\n",
       "    </tr>\n",
       "    <tr>\n",
       "      <th>3922</th>\n",
       "      <td>How many more wake-up calls will Canada need after #Wetsuweten? https://t.co/vLBkEJxJpr https://t.co/BNeGEwhAA2</td>\n",
       "      <td>219106</td>\n",
       "      <td>False</td>\n",
       "    </tr>\n",
       "    <tr>\n",
       "      <th>3981</th>\n",
       "      <td>\"It's not over - keep the pressure on.\"\\nTentative agreement b/w #indigenous #Wetsuweten &amp;amp; #Canada govt concerns lan… https://t.co/X61gWt9a2r</td>\n",
       "      <td>52452</td>\n",
       "      <td>False</td>\n",
       "    </tr>\n",
       "  </tbody>\n",
       "</table>\n",
       "<p>322 rows × 3 columns</p>\n",
       "</div>"
      ],
      "text/plain": [
       "                                                                                                                                                   text  \\\n",
       "0                                           They are starting to get more and more desperate...\\nThis shows that we’re winning. https://t.co/NLOZL331X9   \n",
       "1                      I do not believe we will defeat Donald Trump with a candidate like Joe Biden who supported the Iraq War. https://t.co/8tII7O3Mal   \n",
       "2                                                     Indigenous rights = Climate justice\\n#WetsuwetenStrong #KeepItInTheGround https://t.co/1kYNumyoQT   \n",
       "3           Stop running away from your problem. Run into your problem.  It will suck.  Really suck. But, when you pop out the… https://t.co/nAwxydi5Ft   \n",
       "4                           Support the Wet’suwet’en Nation and the pipeline protests happening now in Canada! #WetsuwenStrong  https://t.co/dkNxOzJyUb   \n",
       "...                                                                                                                                                 ...   \n",
       "3241               Wet'suwet'en hereditary chiefs reach proposed agreement with provincial and federal governments #Wetsuweten… https://t.co/RtC2DlnxcH   \n",
       "3298       Work to resume on Coastal GasLink pipeline and Victoria’s Redbrick acquires Leadpages are the stories @reporton and… https://t.co/5e4wAMugCH   \n",
       "3404       \"There is a much larger problem here, and hopefully one that federal and provincial governments recognize and addre… https://t.co/wwAJPTI2k8   \n",
       "3922                                    How many more wake-up calls will Canada need after #Wetsuweten? https://t.co/vLBkEJxJpr https://t.co/BNeGEwhAA2   \n",
       "3981  \"It's not over - keep the pressure on.\"\\nTentative agreement b/w #indigenous #Wetsuweten &amp; #Canada govt concerns lan… https://t.co/X61gWt9a2r   \n",
       "\n",
       "      followers  high_response  \n",
       "0       4079169           True  \n",
       "1      10951634           True  \n",
       "2       4086646           True  \n",
       "3       2059165           True  \n",
       "4       4091979           True  \n",
       "...         ...            ...  \n",
       "3241     146814          False  \n",
       "3298      35973          False  \n",
       "3404      63310          False  \n",
       "3922     219106          False  \n",
       "3981      52452          False  \n",
       "\n",
       "[322 rows x 3 columns]"
      ]
     },
     "execution_count": 8,
     "metadata": {},
     "output_type": "execute_result"
    }
   ],
   "source": [
    "df[df['followers'] > 24000][['text', 'followers', 'high_response']]"
   ]
  },
  {
   "cell_type": "code",
   "execution_count": 13,
   "metadata": {},
   "outputs": [],
   "source": [
    "holy_series = df[df['followers'] > 24000]['text'].str.contains('holy')"
   ]
  },
  {
   "cell_type": "code",
   "execution_count": 16,
   "metadata": {},
   "outputs": [
    {
     "data": {
      "text/plain": [
       "Series([], Name: text, dtype: bool)"
      ]
     },
     "execution_count": 16,
     "metadata": {},
     "output_type": "execute_result"
    }
   ],
   "source": [
    "holy_series[holy_series==True]"
   ]
  },
  {
   "cell_type": "code",
   "execution_count": 17,
   "metadata": {},
   "outputs": [],
   "source": [
    "cost_series = df[df['followers'] > 24000]['text'].str.contains('cost')"
   ]
  },
  {
   "cell_type": "code",
   "execution_count": 18,
   "metadata": {},
   "outputs": [
    {
     "data": {
      "text/plain": [
       "16    True\n",
       "Name: text, dtype: bool"
      ]
     },
     "execution_count": 18,
     "metadata": {},
     "output_type": "execute_result"
    }
   ],
   "source": [
    "cost_series[cost_series==True]"
   ]
  },
  {
   "cell_type": "code",
   "execution_count": 22,
   "metadata": {},
   "outputs": [],
   "source": [
    "twenty_four_thou = df[df['followers'] > 24000][['text', 'followers', 'high_response']]"
   ]
  },
  {
   "cell_type": "code",
   "execution_count": 32,
   "metadata": {},
   "outputs": [
    {
     "data": {
      "text/plain": [
       "text             I have three questions for Justin Trudeau:\\n\\n1. What was in the secret deal?\\n2. How much did it cost?\\n3. Why aren’t… https://t.co/jvkwFSesTa\n",
       "followers                                                                                                                                                  38047\n",
       "high_response                                                                                                                                               True\n",
       "Name: 16, dtype: object"
      ]
     },
     "execution_count": 32,
     "metadata": {},
     "output_type": "execute_result"
    }
   ],
   "source": [
    "twenty_four_thou.loc[16]"
   ]
  },
  {
   "cell_type": "code",
   "execution_count": 34,
   "metadata": {},
   "outputs": [
    {
     "data": {
      "text/plain": [
       "120     True\n",
       "190     True\n",
       "286     True\n",
       "316     True\n",
       "1121    True\n",
       "Name: text, dtype: bool"
      ]
     },
     "execution_count": 34,
     "metadata": {},
     "output_type": "execute_result"
    }
   ],
   "source": [
    "old_series = twenty_four_thou['text'].str.contains('old', flags=re.IGNORECASE)\n",
    "old_series[old_series==True]"
   ]
  },
  {
   "cell_type": "code",
   "execution_count": 35,
   "metadata": {},
   "outputs": [
    {
     "data": {
      "text/html": [
       "<div>\n",
       "<style scoped>\n",
       "    .dataframe tbody tr th:only-of-type {\n",
       "        vertical-align: middle;\n",
       "    }\n",
       "\n",
       "    .dataframe tbody tr th {\n",
       "        vertical-align: top;\n",
       "    }\n",
       "\n",
       "    .dataframe thead th {\n",
       "        text-align: right;\n",
       "    }\n",
       "</style>\n",
       "<table border=\"1\" class=\"dataframe\">\n",
       "  <thead>\n",
       "    <tr style=\"text-align: right;\">\n",
       "      <th></th>\n",
       "      <th>text</th>\n",
       "      <th>followers</th>\n",
       "      <th>high_response</th>\n",
       "    </tr>\n",
       "  </thead>\n",
       "  <tbody>\n",
       "    <tr>\n",
       "      <th>120</th>\n",
       "      <td>Cabinet approves $240M Mohawk settlement for 132-year-old land claim. Payout will see Mohawks of Akwesasne renounce… https://t.co/onvkqSjqGJ</td>\n",
       "      <td>1226609</td>\n",
       "      <td>False</td>\n",
       "    </tr>\n",
       "    <tr>\n",
       "      <th>190</th>\n",
       "      <td>Peel police officers discriminated against a six-year-old black girl when they handcuffed her wrists behind her bac… https://t.co/PesTwk2zqx</td>\n",
       "      <td>2820252</td>\n",
       "      <td>False</td>\n",
       "    </tr>\n",
       "    <tr>\n",
       "      <th>286</th>\n",
       "      <td>Cabinet approves $240M Mohawk settlement for 132-year-old land claim https://t.co/aef08iKimS #hw #cdnpoli https://t.co/RDlhvq17E2</td>\n",
       "      <td>196800</td>\n",
       "      <td>False</td>\n",
       "    </tr>\n",
       "    <tr>\n",
       "      <th>316</th>\n",
       "      <td>Hold on a minute. This report is premature. The RCMP haven’t left their lands, one of their key demands and the Her… https://t.co/OKRcJPkkyi</td>\n",
       "      <td>30246</td>\n",
       "      <td>False</td>\n",
       "    </tr>\n",
       "    <tr>\n",
       "      <th>1121</th>\n",
       "      <td>Solidarity blockade of Highway 6 bypass continues, drivers told to expect delays | CBC News https://t.co/2v0zhBSgZ8 #HamOnt #Wetsuweten</td>\n",
       "      <td>77156</td>\n",
       "      <td>False</td>\n",
       "    </tr>\n",
       "  </tbody>\n",
       "</table>\n",
       "</div>"
      ],
      "text/plain": [
       "                                                                                                                                              text  \\\n",
       "120   Cabinet approves $240M Mohawk settlement for 132-year-old land claim. Payout will see Mohawks of Akwesasne renounce… https://t.co/onvkqSjqGJ   \n",
       "190   Peel police officers discriminated against a six-year-old black girl when they handcuffed her wrists behind her bac… https://t.co/PesTwk2zqx   \n",
       "286              Cabinet approves $240M Mohawk settlement for 132-year-old land claim https://t.co/aef08iKimS #hw #cdnpoli https://t.co/RDlhvq17E2   \n",
       "316   Hold on a minute. This report is premature. The RCMP haven’t left their lands, one of their key demands and the Her… https://t.co/OKRcJPkkyi   \n",
       "1121       Solidarity blockade of Highway 6 bypass continues, drivers told to expect delays | CBC News https://t.co/2v0zhBSgZ8 #HamOnt #Wetsuweten   \n",
       "\n",
       "      followers  high_response  \n",
       "120     1226609          False  \n",
       "190     2820252          False  \n",
       "286      196800          False  \n",
       "316       30246          False  \n",
       "1121      77156          False  "
      ]
     },
     "execution_count": 35,
     "metadata": {},
     "output_type": "execute_result"
    }
   ],
   "source": [
    "twenty_four_thou.loc[[120,190,286,316,1121]]"
   ]
  },
  {
   "cell_type": "code",
   "execution_count": null,
   "metadata": {},
   "outputs": [],
   "source": []
  }
 ],
 "metadata": {
  "kernelspec": {
   "display_name": "Python 3",
   "language": "python",
   "name": "python3"
  },
  "language_info": {
   "codemirror_mode": {
    "name": "ipython",
    "version": 3
   },
   "file_extension": ".py",
   "mimetype": "text/x-python",
   "name": "python",
   "nbconvert_exporter": "python",
   "pygments_lexer": "ipython3",
   "version": "3.7.4"
  }
 },
 "nbformat": 4,
 "nbformat_minor": 4
}
