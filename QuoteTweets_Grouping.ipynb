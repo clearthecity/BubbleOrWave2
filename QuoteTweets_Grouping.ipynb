{
 "cells": [
  {
   "cell_type": "code",
   "execution_count": 18,
   "metadata": {},
   "outputs": [],
   "source": [
    "from decouple import config\n",
    "from pymongo import MongoClient\n",
    "import numpy as np\n",
    "import pandas as pd"
   ]
  },
  {
   "cell_type": "code",
   "execution_count": 3,
   "metadata": {},
   "outputs": [],
   "source": [
    "connection_string = config('MONGO_CONNECTION_STRING')"
   ]
  },
  {
   "cell_type": "code",
   "execution_count": 4,
   "metadata": {},
   "outputs": [],
   "source": [
    "client = MongoClient(connection_string)\n",
    "db = client.db\n",
    "coll = db['twitter']"
   ]
  },
  {
   "cell_type": "code",
   "execution_count": 5,
   "metadata": {},
   "outputs": [],
   "source": [
    "# all users\n",
    "user_pipeline = [\n",
    "    {\n",
    "        \"$project\": {\n",
    "            \"_id\": 0,\n",
    "            \"id\": \"$user.id\",\n",
    "            \"name\": \"$user.name\",\n",
    "            \"followers\": \"$user.followers_count\",\n",
    "            \"verified\": \"$user.verified\"\n",
    "        }\n",
    "    },\n",
    "    {\n",
    "        \"$sort\": {\n",
    "            \"name\": 1\n",
    "        }\n",
    "    }\n",
    "]"
   ]
  },
  {
   "cell_type": "code",
   "execution_count": 6,
   "metadata": {},
   "outputs": [
    {
     "data": {
      "text/html": [
       "<div>\n",
       "<style scoped>\n",
       "    .dataframe tbody tr th:only-of-type {\n",
       "        vertical-align: middle;\n",
       "    }\n",
       "\n",
       "    .dataframe tbody tr th {\n",
       "        vertical-align: top;\n",
       "    }\n",
       "\n",
       "    .dataframe thead th {\n",
       "        text-align: right;\n",
       "    }\n",
       "</style>\n",
       "<table border=\"1\" class=\"dataframe\">\n",
       "  <thead>\n",
       "    <tr style=\"text-align: right;\">\n",
       "      <th></th>\n",
       "      <th>id</th>\n",
       "      <th>name</th>\n",
       "      <th>followers</th>\n",
       "      <th>verified</th>\n",
       "    </tr>\n",
       "  </thead>\n",
       "  <tbody>\n",
       "    <tr>\n",
       "      <th>0</th>\n",
       "      <td>807034969902252032</td>\n",
       "      <td>\"MRH_1984\" 🇨🇦</td>\n",
       "      <td>2480</td>\n",
       "      <td>False</td>\n",
       "    </tr>\n",
       "    <tr>\n",
       "      <th>1</th>\n",
       "      <td>942083635808792576</td>\n",
       "      <td>#AnitasAffordableBookstore</td>\n",
       "      <td>529</td>\n",
       "      <td>False</td>\n",
       "    </tr>\n",
       "    <tr>\n",
       "      <th>2</th>\n",
       "      <td>942083635808792576</td>\n",
       "      <td>#AnitasAffordableBookstore</td>\n",
       "      <td>529</td>\n",
       "      <td>False</td>\n",
       "    </tr>\n",
       "    <tr>\n",
       "      <th>3</th>\n",
       "      <td>942083635808792576</td>\n",
       "      <td>#AnitasAffordableBookstore</td>\n",
       "      <td>529</td>\n",
       "      <td>False</td>\n",
       "    </tr>\n",
       "    <tr>\n",
       "      <th>4</th>\n",
       "      <td>942083635808792576</td>\n",
       "      <td>#AnitasAffordableBookstore</td>\n",
       "      <td>529</td>\n",
       "      <td>False</td>\n",
       "    </tr>\n",
       "  </tbody>\n",
       "</table>\n",
       "</div>"
      ],
      "text/plain": [
       "                   id                        name  followers  verified\n",
       "0  807034969902252032               \"MRH_1984\" 🇨🇦       2480     False\n",
       "1  942083635808792576  #AnitasAffordableBookstore        529     False\n",
       "2  942083635808792576  #AnitasAffordableBookstore        529     False\n",
       "3  942083635808792576  #AnitasAffordableBookstore        529     False\n",
       "4  942083635808792576  #AnitasAffordableBookstore        529     False"
      ]
     },
     "execution_count": 6,
     "metadata": {},
     "output_type": "execute_result"
    }
   ],
   "source": [
    "user_df = pd.DataFrame.from_dict(list(coll.aggregate(user_pipeline)))\n",
    "user_df.head()"
   ]
  },
  {
   "cell_type": "code",
   "execution_count": 7,
   "metadata": {},
   "outputs": [
    {
     "data": {
      "text/html": [
       "<div>\n",
       "<style scoped>\n",
       "    .dataframe tbody tr th:only-of-type {\n",
       "        vertical-align: middle;\n",
       "    }\n",
       "\n",
       "    .dataframe tbody tr th {\n",
       "        vertical-align: top;\n",
       "    }\n",
       "\n",
       "    .dataframe thead th {\n",
       "        text-align: right;\n",
       "    }\n",
       "</style>\n",
       "<table border=\"1\" class=\"dataframe\">\n",
       "  <thead>\n",
       "    <tr style=\"text-align: right;\">\n",
       "      <th></th>\n",
       "      <th>id</th>\n",
       "      <th>name</th>\n",
       "      <th>followers</th>\n",
       "      <th>verified</th>\n",
       "    </tr>\n",
       "  </thead>\n",
       "  <tbody>\n",
       "    <tr>\n",
       "      <th>0</th>\n",
       "      <td>807034969902252032</td>\n",
       "      <td>\"MRH_1984\" 🇨🇦</td>\n",
       "      <td>2480</td>\n",
       "      <td>False</td>\n",
       "    </tr>\n",
       "    <tr>\n",
       "      <th>1</th>\n",
       "      <td>942083635808792576</td>\n",
       "      <td>#AnitasAffordableBookstore</td>\n",
       "      <td>529</td>\n",
       "      <td>False</td>\n",
       "    </tr>\n",
       "    <tr>\n",
       "      <th>13</th>\n",
       "      <td>1207754603673972736</td>\n",
       "      <td>#BCPoliTalk</td>\n",
       "      <td>206</td>\n",
       "      <td>False</td>\n",
       "    </tr>\n",
       "    <tr>\n",
       "      <th>15</th>\n",
       "      <td>2518034430</td>\n",
       "      <td>#FreeChelseaManning &amp; #PrayForAmazonas</td>\n",
       "      <td>163</td>\n",
       "      <td>False</td>\n",
       "    </tr>\n",
       "    <tr>\n",
       "      <th>16</th>\n",
       "      <td>38458897</td>\n",
       "      <td>#IndianStatus531</td>\n",
       "      <td>1228</td>\n",
       "      <td>False</td>\n",
       "    </tr>\n",
       "  </tbody>\n",
       "</table>\n",
       "</div>"
      ],
      "text/plain": [
       "                     id                                    name  followers  \\\n",
       "0    807034969902252032                           \"MRH_1984\" 🇨🇦       2480   \n",
       "1    942083635808792576              #AnitasAffordableBookstore        529   \n",
       "13  1207754603673972736                             #BCPoliTalk        206   \n",
       "15           2518034430  #FreeChelseaManning & #PrayForAmazonas        163   \n",
       "16             38458897                        #IndianStatus531       1228   \n",
       "\n",
       "    verified  \n",
       "0      False  \n",
       "1      False  \n",
       "13     False  \n",
       "15     False  \n",
       "16     False  "
      ]
     },
     "execution_count": 7,
     "metadata": {},
     "output_type": "execute_result"
    }
   ],
   "source": [
    "user_df.drop_duplicates(subset=['id'], keep='first', inplace=True)\n",
    "user_df.head()"
   ]
  },
  {
   "cell_type": "code",
   "execution_count": 22,
   "metadata": {},
   "outputs": [],
   "source": [
    "user_df.to_json('users.json', orient='records')"
   ]
  },
  {
   "cell_type": "code",
   "execution_count": 6,
   "metadata": {},
   "outputs": [],
   "source": [
    "group_pipeline = [\n",
    "    {\n",
    "      \"$match\": {\n",
    "          \"is_quote_status\": {\"$eq\": True},\n",
    "          \"quoted_status\": {\"$exists\": True}\n",
    "      }  \n",
    "    },\n",
    "    {\n",
    "        \"$project\": {\n",
    "            \"_id\": 0,\n",
    "            \"twid\": \"$id\",\n",
    "            \"user_id\": \"$user.id\",\n",
    "            \"user\": \"$user.name\",\n",
    "            \"verified\": \"$user.verified\",\n",
    "            \"created_at\": {\n",
    "                \"$dateFromString\": {\n",
    "                    \"dateString\": \"$created_at\"\n",
    "                }\n",
    "            },\n",
    "            \"qu_twid\": \"$quoted_status.id_str\",\n",
    "            \"qu_user_id\": \"$quoted_status.user.id_str\",\n",
    "            \"qu_user\": \"$quoted_status.user.name\",\n",
    "            \"qu_verified\": \"$quoted_status.user.verified\"\n",
    "        }\n",
    "    },\n",
    "    {\n",
    "        \"$group\": {\n",
    "            \"_id\": \"$qu_user\",\n",
    "            \"count\": {\"$sum\": 1}\n",
    "        }\n",
    "    },\n",
    "    {\n",
    "        \"$sort\": {\n",
    "            \"count\": -1\n",
    "        }\n",
    "    }\n",
    "]"
   ]
  },
  {
   "cell_type": "code",
   "execution_count": 7,
   "metadata": {},
   "outputs": [
    {
     "data": {
      "text/html": [
       "<div>\n",
       "<style scoped>\n",
       "    .dataframe tbody tr th:only-of-type {\n",
       "        vertical-align: middle;\n",
       "    }\n",
       "\n",
       "    .dataframe tbody tr th {\n",
       "        vertical-align: top;\n",
       "    }\n",
       "\n",
       "    .dataframe thead th {\n",
       "        text-align: right;\n",
       "    }\n",
       "</style>\n",
       "<table border=\"1\" class=\"dataframe\">\n",
       "  <thead>\n",
       "    <tr style=\"text-align: right;\">\n",
       "      <th></th>\n",
       "      <th>_id</th>\n",
       "      <th>count</th>\n",
       "    </tr>\n",
       "  </thead>\n",
       "  <tbody>\n",
       "    <tr>\n",
       "      <th>0</th>\n",
       "      <td>Christi Belcourt</td>\n",
       "      <td>29</td>\n",
       "    </tr>\n",
       "    <tr>\n",
       "      <th>1</th>\n",
       "      <td>Indigenous Youth for Wet’suwet’en</td>\n",
       "      <td>28</td>\n",
       "    </tr>\n",
       "    <tr>\n",
       "      <th>2</th>\n",
       "      <td>Andrew Kurjata 📻</td>\n",
       "      <td>24</td>\n",
       "    </tr>\n",
       "    <tr>\n",
       "      <th>3</th>\n",
       "      <td>Gidimt’en Checkpoint</td>\n",
       "      <td>23</td>\n",
       "    </tr>\n",
       "    <tr>\n",
       "      <th>4</th>\n",
       "      <td>Torrance Coste</td>\n",
       "      <td>14</td>\n",
       "    </tr>\n",
       "    <tr>\n",
       "      <th>5</th>\n",
       "      <td>Russ Diabo</td>\n",
       "      <td>14</td>\n",
       "    </tr>\n",
       "    <tr>\n",
       "      <th>6</th>\n",
       "      <td>CBC News Alerts</td>\n",
       "      <td>13</td>\n",
       "    </tr>\n",
       "    <tr>\n",
       "      <th>7</th>\n",
       "      <td>Smogelgem</td>\n",
       "      <td>13</td>\n",
       "    </tr>\n",
       "    <tr>\n",
       "      <th>8</th>\n",
       "      <td>ChantelleBellrichard</td>\n",
       "      <td>10</td>\n",
       "    </tr>\n",
       "    <tr>\n",
       "      <th>9</th>\n",
       "      <td>Ricochet</td>\n",
       "      <td>10</td>\n",
       "    </tr>\n",
       "    <tr>\n",
       "      <th>10</th>\n",
       "      <td>The Globe and Mail</td>\n",
       "      <td>9</td>\n",
       "    </tr>\n",
       "    <tr>\n",
       "      <th>11</th>\n",
       "      <td>Ezra Levant 🍁</td>\n",
       "      <td>8</td>\n",
       "    </tr>\n",
       "    <tr>\n",
       "      <th>12</th>\n",
       "      <td>APTN National News</td>\n",
       "      <td>8</td>\n",
       "    </tr>\n",
       "    <tr>\n",
       "      <th>13</th>\n",
       "      <td>The Post Millennial</td>\n",
       "      <td>7</td>\n",
       "    </tr>\n",
       "    <tr>\n",
       "      <th>14</th>\n",
       "      <td>Louisette Lanteigne 🌎✌️⚖️♥️</td>\n",
       "      <td>7</td>\n",
       "    </tr>\n",
       "    <tr>\n",
       "      <th>15</th>\n",
       "      <td>Wet'suwet'en Solidarity UK</td>\n",
       "      <td>7</td>\n",
       "    </tr>\n",
       "    <tr>\n",
       "      <th>16</th>\n",
       "      <td>Unist'ot'en Camp</td>\n",
       "      <td>7</td>\n",
       "    </tr>\n",
       "    <tr>\n",
       "      <th>17</th>\n",
       "      <td>BC Civil Liberties</td>\n",
       "      <td>7</td>\n",
       "    </tr>\n",
       "    <tr>\n",
       "      <th>18</th>\n",
       "      <td>Kate Elizabeth Korte</td>\n",
       "      <td>6</td>\n",
       "    </tr>\n",
       "    <tr>\n",
       "      <th>19</th>\n",
       "      <td>CTV News</td>\n",
       "      <td>6</td>\n",
       "    </tr>\n",
       "  </tbody>\n",
       "</table>\n",
       "</div>"
      ],
      "text/plain": [
       "                                  _id  count\n",
       "0                    Christi Belcourt     29\n",
       "1   Indigenous Youth for Wet’suwet’en     28\n",
       "2                    Andrew Kurjata 📻     24\n",
       "3                Gidimt’en Checkpoint     23\n",
       "4                      Torrance Coste     14\n",
       "5                          Russ Diabo     14\n",
       "6                     CBC News Alerts     13\n",
       "7                           Smogelgem     13\n",
       "8                ChantelleBellrichard     10\n",
       "9                            Ricochet     10\n",
       "10                 The Globe and Mail      9\n",
       "11                      Ezra Levant 🍁      8\n",
       "12                 APTN National News      8\n",
       "13                The Post Millennial      7\n",
       "14        Louisette Lanteigne 🌎✌️⚖️♥️      7\n",
       "15         Wet'suwet'en Solidarity UK      7\n",
       "16                   Unist'ot'en Camp      7\n",
       "17                 BC Civil Liberties      7\n",
       "18               Kate Elizabeth Korte      6\n",
       "19                           CTV News      6"
      ]
     },
     "execution_count": 7,
     "metadata": {},
     "output_type": "execute_result"
    }
   ],
   "source": [
    "group_df = pd.DataFrame.from_dict(list(coll.aggregate(group_pipeline)))\n",
    "group_df[:20]"
   ]
  },
  {
   "cell_type": "code",
   "execution_count": 8,
   "metadata": {},
   "outputs": [],
   "source": [
    "# pivoting with $group:\n",
    "# https://docs.mongodb.com/manual/reference/operator/aggregation/group/#group-documents-by-author\n",
    "\n",
    "group_multilevel = [\n",
    "    {\n",
    "      \"$match\": {\n",
    "          \"is_quote_status\": {\"$eq\": True},\n",
    "          \"quoted_status\": {\"$exists\": True}\n",
    "      }  \n",
    "    },\n",
    "    {\n",
    "        \"$project\": {\n",
    "            \"_id\": 0,\n",
    "            \"twid\": \"$id\",\n",
    "            \"user_id\": \"$user.id\",\n",
    "            \"user\": \"$user.name\",\n",
    "            \"verified\": \"$user.verified\",\n",
    "            \"created_at\": {\n",
    "                \"$dateFromString\": {\n",
    "                    \"dateString\": \"$created_at\"\n",
    "                }\n",
    "            },\n",
    "            \"qu_twid\": \"$quoted_status.id_str\",\n",
    "            \"qu_user_id\": \"$quoted_status.user.id_str\",\n",
    "            \"qu_user\": \"$quoted_status.user.name\",\n",
    "            \"qu_verified\": \"$quoted_status.user.verified\"\n",
    "        }\n",
    "    },\n",
    "    {\n",
    "        \"$group\": {\n",
    "            \"_id\": \"$user_id\",\n",
    "            \"tweet\": {\"$push\": \"$$ROOT\"}\n",
    "        }\n",
    "    },\n",
    "    {\n",
    "        \"$project\": {\n",
    "            \"qu_user_id\": \"$tweet.qu_user_id\",\n",
    "            \"qu_user\": \"$tweet.qu_user\"\n",
    "        }\n",
    "    }\n",
    "]"
   ]
  },
  {
   "cell_type": "code",
   "execution_count": 39,
   "metadata": {},
   "outputs": [
    {
     "data": {
      "text/plain": [
       "[{'_id': 896114542647795712,\n",
       "  'qu_user_id': ['21166754', '834182874307768321'],\n",
       "  'qu_user': ['Andrew Kurjata 📻', 'Scott Fraser']},\n",
       " {'_id': 14740104,\n",
       "  'qu_user_id': ['1849355096'],\n",
       "  'qu_user': ['Margareta Dovgal']},\n",
       " {'_id': 198263394,\n",
       "  'qu_user_id': ['1082000847368679424',\n",
       "   '1082000847368679424',\n",
       "   '90790673',\n",
       "   '86653536'],\n",
       "  'qu_user': ['Gidimt’en Checkpoint',\n",
       "   'Gidimt’en Checkpoint',\n",
       "   'Geneviève Reynolds',\n",
       "   'submedia']},\n",
       " {'_id': 818489629603221505,\n",
       "  'qu_user_id': ['36395646'],\n",
       "  'qu_user': ['Pam Palmater']},\n",
       " {'_id': 839225654172401664, 'qu_user_id': [], 'qu_user': []},\n",
       " {'_id': 2765828518,\n",
       "  'qu_user_id': ['383304446', '177287178', '1082000847368679424'],\n",
       "  'qu_user': ['Michael Toledano',\n",
       "   'Morganne Campbell',\n",
       "   'Gidimt’en Checkpoint']},\n",
       " {'_id': 15694414,\n",
       "  'qu_user_id': ['274806875'],\n",
       "  'qu_user': ['Kate Elizabeth Korte']},\n",
       " {'_id': 1165698855247241217,\n",
       "  'qu_user_id': ['39446834'],\n",
       "  'qu_user': ['Frank J Alec']},\n",
       " {'_id': 333573416, 'qu_user_id': [], 'qu_user': []},\n",
       " {'_id': 2216193327,\n",
       "  'qu_user_id': ['21166754'],\n",
       "  'qu_user': ['Andrew Kurjata 📻']}]"
      ]
     },
     "execution_count": 39,
     "metadata": {},
     "output_type": "execute_result"
    }
   ],
   "source": [
    "list(coll.aggregate(group_multilevel))[:10]"
   ]
  },
  {
   "cell_type": "code",
   "execution_count": 40,
   "metadata": {},
   "outputs": [],
   "source": [
    "ml_df = pd.DataFrame.from_dict(list(coll.aggregate(group_multilevel)))\n",
    "ml_df.to_json('quote_tweets_by_user.json', orient='records')"
   ]
  },
  {
   "cell_type": "code",
   "execution_count": 19,
   "metadata": {},
   "outputs": [],
   "source": [
    "# pivoting with $group:\n",
    "# https://docs.mongodb.com/manual/reference/operator/aggregation/group/#group-documents-by-author\n",
    "\n",
    "# structuring json for d3 force-directed graphs:\n",
    "# https://github.com/d3/d3-force\n",
    "\n",
    "group_d3 = [\n",
    "    {\n",
    "      \"$match\": {\n",
    "          \"is_quote_status\": {\"$eq\": True},\n",
    "          \"quoted_status\": {\"$exists\": True}\n",
    "      }  \n",
    "    },\n",
    "    {\n",
    "        \"$project\": {\n",
    "            \"_id\": 0,\n",
    "            \"source\": \"$user.id\",\n",
    "            \"target\": \"$quoted_status.user.id\",\n",
    "        }\n",
    "    }\n",
    "]"
   ]
  },
  {
   "cell_type": "code",
   "execution_count": 33,
   "metadata": {},
   "outputs": [
    {
     "data": {
      "text/html": [
       "<div>\n",
       "<style scoped>\n",
       "    .dataframe tbody tr th:only-of-type {\n",
       "        vertical-align: middle;\n",
       "    }\n",
       "\n",
       "    .dataframe tbody tr th {\n",
       "        vertical-align: top;\n",
       "    }\n",
       "\n",
       "    .dataframe thead th {\n",
       "        text-align: right;\n",
       "    }\n",
       "</style>\n",
       "<table border=\"1\" class=\"dataframe\">\n",
       "  <thead>\n",
       "    <tr style=\"text-align: right;\">\n",
       "      <th></th>\n",
       "      <th>source</th>\n",
       "      <th>target</th>\n",
       "    </tr>\n",
       "  </thead>\n",
       "  <tbody>\n",
       "    <tr>\n",
       "      <th>0</th>\n",
       "      <td>846507587457765376</td>\n",
       "      <td>17138582</td>\n",
       "    </tr>\n",
       "    <tr>\n",
       "      <th>1</th>\n",
       "      <td>956223400120168448</td>\n",
       "      <td>395335392</td>\n",
       "    </tr>\n",
       "    <tr>\n",
       "      <th>2</th>\n",
       "      <td>1221182879088037888</td>\n",
       "      <td>1006419421244678144</td>\n",
       "    </tr>\n",
       "    <tr>\n",
       "      <th>3</th>\n",
       "      <td>3193766737</td>\n",
       "      <td>3020467682</td>\n",
       "    </tr>\n",
       "    <tr>\n",
       "      <th>4</th>\n",
       "      <td>828104684397219840</td>\n",
       "      <td>935617448409206784</td>\n",
       "    </tr>\n",
       "  </tbody>\n",
       "</table>\n",
       "</div>"
      ],
      "text/plain": [
       "                source               target\n",
       "0   846507587457765376             17138582\n",
       "1   956223400120168448            395335392\n",
       "2  1221182879088037888  1006419421244678144\n",
       "3           3193766737           3020467682\n",
       "4   828104684397219840   935617448409206784"
      ]
     },
     "execution_count": 33,
     "metadata": {},
     "output_type": "execute_result"
    }
   ],
   "source": [
    "links = pd.DataFrame.from_dict(list(coll.aggregate(group_d3)))\n",
    "links.head()"
   ]
  },
  {
   "cell_type": "code",
   "execution_count": 34,
   "metadata": {},
   "outputs": [],
   "source": [
    "userlist = list(user_df['id'])"
   ]
  },
  {
   "cell_type": "code",
   "execution_count": 35,
   "metadata": {},
   "outputs": [],
   "source": [
    "np.set_printoptions(suppress=True) # don't convert to scientific notation\n",
    "\n",
    "def not_in_user_list(row: int) -> int:\n",
    "    target = row['target']\n",
    "    if target in userlist:\n",
    "        return target\n",
    "    print(target)\n",
    "    return None"
   ]
  },
  {
   "cell_type": "code",
   "execution_count": 36,
   "metadata": {},
   "outputs": [
    {
     "name": "stdout",
     "output_type": "stream",
     "text": [
      "1101971425701715969\n",
      "2690543658\n",
      "325076723\n",
      "245805420\n",
      "228529107\n",
      "134513525\n",
      "242827267\n"
     ]
    },
    {
     "data": {
      "text/html": [
       "<div>\n",
       "<style scoped>\n",
       "    .dataframe tbody tr th:only-of-type {\n",
       "        vertical-align: middle;\n",
       "    }\n",
       "\n",
       "    .dataframe tbody tr th {\n",
       "        vertical-align: top;\n",
       "    }\n",
       "\n",
       "    .dataframe thead th {\n",
       "        text-align: right;\n",
       "    }\n",
       "</style>\n",
       "<table border=\"1\" class=\"dataframe\">\n",
       "  <thead>\n",
       "    <tr style=\"text-align: right;\">\n",
       "      <th></th>\n",
       "      <th>source</th>\n",
       "      <th>target</th>\n",
       "      <th>target_2</th>\n",
       "    </tr>\n",
       "  </thead>\n",
       "  <tbody>\n",
       "    <tr>\n",
       "      <th>0</th>\n",
       "      <td>846507587457765376</td>\n",
       "      <td>17138582</td>\n",
       "      <td>1.713858e+07</td>\n",
       "    </tr>\n",
       "    <tr>\n",
       "      <th>1</th>\n",
       "      <td>956223400120168448</td>\n",
       "      <td>395335392</td>\n",
       "      <td>3.953354e+08</td>\n",
       "    </tr>\n",
       "    <tr>\n",
       "      <th>2</th>\n",
       "      <td>1221182879088037888</td>\n",
       "      <td>1006419421244678144</td>\n",
       "      <td>1.006419e+18</td>\n",
       "    </tr>\n",
       "    <tr>\n",
       "      <th>3</th>\n",
       "      <td>3193766737</td>\n",
       "      <td>3020467682</td>\n",
       "      <td>3.020468e+09</td>\n",
       "    </tr>\n",
       "    <tr>\n",
       "      <th>4</th>\n",
       "      <td>828104684397219840</td>\n",
       "      <td>935617448409206784</td>\n",
       "      <td>9.356174e+17</td>\n",
       "    </tr>\n",
       "  </tbody>\n",
       "</table>\n",
       "</div>"
      ],
      "text/plain": [
       "                source               target      target_2\n",
       "0   846507587457765376             17138582  1.713858e+07\n",
       "1   956223400120168448            395335392  3.953354e+08\n",
       "2  1221182879088037888  1006419421244678144  1.006419e+18\n",
       "3           3193766737           3020467682  3.020468e+09\n",
       "4   828104684397219840   935617448409206784  9.356174e+17"
      ]
     },
     "execution_count": 36,
     "metadata": {},
     "output_type": "execute_result"
    }
   ],
   "source": [
    "links['target_2'] = links.apply(not_in_user_list, axis=1)\n",
    "links.head()"
   ]
  },
  {
   "cell_type": "code",
   "execution_count": 37,
   "metadata": {},
   "outputs": [
    {
     "data": {
      "text/plain": [
       "source        int64\n",
       "target        int64\n",
       "target_2    float64\n",
       "dtype: object"
      ]
     },
     "execution_count": 37,
     "metadata": {},
     "output_type": "execute_result"
    }
   ],
   "source": [
    "links.dtypes"
   ]
  },
  {
   "cell_type": "code",
   "execution_count": 42,
   "metadata": {},
   "outputs": [
    {
     "data": {
      "text/html": [
       "<div>\n",
       "<style scoped>\n",
       "    .dataframe tbody tr th:only-of-type {\n",
       "        vertical-align: middle;\n",
       "    }\n",
       "\n",
       "    .dataframe tbody tr th {\n",
       "        vertical-align: top;\n",
       "    }\n",
       "\n",
       "    .dataframe thead th {\n",
       "        text-align: right;\n",
       "    }\n",
       "</style>\n",
       "<table border=\"1\" class=\"dataframe\">\n",
       "  <thead>\n",
       "    <tr style=\"text-align: right;\">\n",
       "      <th></th>\n",
       "      <th>source</th>\n",
       "      <th>target</th>\n",
       "      <th>target_2</th>\n",
       "    </tr>\n",
       "  </thead>\n",
       "  <tbody>\n",
       "    <tr>\n",
       "      <th>134</th>\n",
       "      <td>742354529086242816</td>\n",
       "      <td>1101971425701715969</td>\n",
       "      <td>NaN</td>\n",
       "    </tr>\n",
       "    <tr>\n",
       "      <th>833</th>\n",
       "      <td>2751081091</td>\n",
       "      <td>2690543658</td>\n",
       "      <td>NaN</td>\n",
       "    </tr>\n",
       "    <tr>\n",
       "      <th>836</th>\n",
       "      <td>25391299</td>\n",
       "      <td>325076723</td>\n",
       "      <td>NaN</td>\n",
       "    </tr>\n",
       "    <tr>\n",
       "      <th>840</th>\n",
       "      <td>27947724</td>\n",
       "      <td>245805420</td>\n",
       "      <td>NaN</td>\n",
       "    </tr>\n",
       "    <tr>\n",
       "      <th>842</th>\n",
       "      <td>1111459024589877248</td>\n",
       "      <td>228529107</td>\n",
       "      <td>NaN</td>\n",
       "    </tr>\n",
       "    <tr>\n",
       "      <th>847</th>\n",
       "      <td>572239210</td>\n",
       "      <td>134513525</td>\n",
       "      <td>NaN</td>\n",
       "    </tr>\n",
       "    <tr>\n",
       "      <th>850</th>\n",
       "      <td>295358506</td>\n",
       "      <td>242827267</td>\n",
       "      <td>NaN</td>\n",
       "    </tr>\n",
       "  </tbody>\n",
       "</table>\n",
       "</div>"
      ],
      "text/plain": [
       "                  source               target  target_2\n",
       "134   742354529086242816  1101971425701715969       NaN\n",
       "833           2751081091           2690543658       NaN\n",
       "836             25391299            325076723       NaN\n",
       "840             27947724            245805420       NaN\n",
       "842  1111459024589877248            228529107       NaN\n",
       "847            572239210            134513525       NaN\n",
       "850            295358506            242827267       NaN"
      ]
     },
     "execution_count": 42,
     "metadata": {},
     "output_type": "execute_result"
    }
   ],
   "source": [
    "links[links.target_2.isna()]"
   ]
  },
  {
   "cell_type": "code",
   "execution_count": 43,
   "metadata": {},
   "outputs": [],
   "source": [
    "to_delete = links[links.target_2.isna()]"
   ]
  },
  {
   "cell_type": "code",
   "execution_count": 44,
   "metadata": {},
   "outputs": [
    {
     "data": {
      "text/plain": [
       "Int64Index([134, 833, 836, 840, 842, 847, 850], dtype='int64')"
      ]
     },
     "execution_count": 44,
     "metadata": {},
     "output_type": "execute_result"
    }
   ],
   "source": [
    "to_delete.index"
   ]
  },
  {
   "cell_type": "code",
   "execution_count": 45,
   "metadata": {},
   "outputs": [
    {
     "data": {
      "text/plain": [
       "2553"
      ]
     },
     "execution_count": 45,
     "metadata": {},
     "output_type": "execute_result"
    }
   ],
   "source": [
    "links.size"
   ]
  },
  {
   "cell_type": "code",
   "execution_count": 47,
   "metadata": {},
   "outputs": [],
   "source": [
    "links.drop(to_delete.index, inplace=True)"
   ]
  },
  {
   "cell_type": "code",
   "execution_count": 48,
   "metadata": {},
   "outputs": [
    {
     "data": {
      "text/plain": [
       "2532"
      ]
     },
     "execution_count": 48,
     "metadata": {},
     "output_type": "execute_result"
    }
   ],
   "source": [
    "links.size"
   ]
  },
  {
   "cell_type": "code",
   "execution_count": 50,
   "metadata": {},
   "outputs": [
    {
     "data": {
      "text/html": [
       "<div>\n",
       "<style scoped>\n",
       "    .dataframe tbody tr th:only-of-type {\n",
       "        vertical-align: middle;\n",
       "    }\n",
       "\n",
       "    .dataframe tbody tr th {\n",
       "        vertical-align: top;\n",
       "    }\n",
       "\n",
       "    .dataframe thead th {\n",
       "        text-align: right;\n",
       "    }\n",
       "</style>\n",
       "<table border=\"1\" class=\"dataframe\">\n",
       "  <thead>\n",
       "    <tr style=\"text-align: right;\">\n",
       "      <th></th>\n",
       "      <th>source</th>\n",
       "      <th>target</th>\n",
       "    </tr>\n",
       "  </thead>\n",
       "  <tbody>\n",
       "    <tr>\n",
       "      <th>0</th>\n",
       "      <td>846507587457765376</td>\n",
       "      <td>17138582</td>\n",
       "    </tr>\n",
       "    <tr>\n",
       "      <th>1</th>\n",
       "      <td>956223400120168448</td>\n",
       "      <td>395335392</td>\n",
       "    </tr>\n",
       "    <tr>\n",
       "      <th>2</th>\n",
       "      <td>1221182879088037888</td>\n",
       "      <td>1006419421244678144</td>\n",
       "    </tr>\n",
       "    <tr>\n",
       "      <th>3</th>\n",
       "      <td>3193766737</td>\n",
       "      <td>3020467682</td>\n",
       "    </tr>\n",
       "    <tr>\n",
       "      <th>4</th>\n",
       "      <td>828104684397219840</td>\n",
       "      <td>935617448409206784</td>\n",
       "    </tr>\n",
       "  </tbody>\n",
       "</table>\n",
       "</div>"
      ],
      "text/plain": [
       "                source               target\n",
       "0   846507587457765376             17138582\n",
       "1   956223400120168448            395335392\n",
       "2  1221182879088037888  1006419421244678144\n",
       "3           3193766737           3020467682\n",
       "4   828104684397219840   935617448409206784"
      ]
     },
     "execution_count": 50,
     "metadata": {},
     "output_type": "execute_result"
    }
   ],
   "source": [
    "links.drop(columns=['target_2'], inplace=True)\n",
    "links.head()"
   ]
  },
  {
   "cell_type": "code",
   "execution_count": 51,
   "metadata": {},
   "outputs": [],
   "source": [
    "links.to_json('quote_links.json', orient='records')"
   ]
  },
  {
   "cell_type": "code",
   "execution_count": null,
   "metadata": {},
   "outputs": [],
   "source": []
  }
 ],
 "metadata": {
  "kernelspec": {
   "display_name": "Python 3",
   "language": "python",
   "name": "python3"
  },
  "language_info": {
   "codemirror_mode": {
    "name": "ipython",
    "version": 3
   },
   "file_extension": ".py",
   "mimetype": "text/x-python",
   "name": "python",
   "nbconvert_exporter": "python",
   "pygments_lexer": "ipython3",
   "version": "3.7.4"
  }
 },
 "nbformat": 4,
 "nbformat_minor": 2
}
